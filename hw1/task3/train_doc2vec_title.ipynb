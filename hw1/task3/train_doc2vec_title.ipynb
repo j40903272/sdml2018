{
 "cells": [
  {
   "cell_type": "code",
   "execution_count": 15,
   "metadata": {},
   "outputs": [
    {
     "data": {
      "text/plain": [
       "'3.1.0'"
      ]
     },
     "execution_count": 15,
     "metadata": {},
     "output_type": "execute_result"
    }
   ],
   "source": [
    "import gensim\n",
    "gensim.__version__"
   ]
  },
  {
   "cell_type": "code",
   "execution_count": 16,
   "metadata": {},
   "outputs": [],
   "source": [
    "import pickle\n",
    "with open('nodeMeta.pkl', 'rb') as f:\n",
    "    nodeMeta = pickle.load(f)"
   ]
  },
  {
   "cell_type": "code",
   "execution_count": 17,
   "metadata": {},
   "outputs": [],
   "source": [
    "class LabeledLineSentence(object):\n",
    "    def __init__(self, doc_list, labels_list):\n",
    "        self.labels_list = labels_list\n",
    "        self.doc_list = doc_list\n",
    "    def __iter__(self):\n",
    "        for idx, doc in enumerate(self.doc_list):\n",
    "              yield gensim.models.doc2vec.TaggedDocument(doc, [self.labels_list[idx]])"
   ]
  },
  {
   "cell_type": "code",
   "execution_count": 18,
   "metadata": {},
   "outputs": [],
   "source": [
    "corpus = [nodeMeta[i]['title'] for i in nodeMeta]\n",
    "docLabels = list(range(len(corpus)))\n",
    "it = LabeledLineSentence(corpus, docLabels)"
   ]
  },
  {
   "cell_type": "code",
   "execution_count": 19,
   "metadata": {},
   "outputs": [
    {
     "name": "stdout",
     "output_type": "stream",
     "text": [
      "CPU times: user 17.7 s, sys: 3.68 s, total: 21.4 s\n",
      "Wall time: 13.8 s\n"
     ]
    },
    {
     "data": {
      "text/plain": [
       "3505311"
      ]
     },
     "execution_count": 19,
     "metadata": {},
     "output_type": "execute_result"
    }
   ],
   "source": [
    "model = gensim.models.Doc2Vec(size=100, min_count=1, alpha=0.025, min_alpha=0.00025, workers=4, negative=10, window=3)\n",
    "model.build_vocab(it)\n",
    "%time model.train(it, total_examples=model.corpus_count, epochs=30)"
   ]
  },
  {
   "cell_type": "code",
   "execution_count": 20,
   "metadata": {},
   "outputs": [],
   "source": [
    "ranks = []\n",
    "train_corpus = list(it)\n",
    "\n",
    "for doc_id in range(model.corpus_count):\n",
    "    inferred_vector = model.infer_vector(train_corpus[doc_id].words)\n",
    "    sims = model.docvecs.most_similar([inferred_vector], topn=50)\n",
    "    try:\n",
    "        rank = [docid for docid, sim in sims].index(doc_id)\n",
    "    except:\n",
    "        rank = 50\n",
    "    ranks.append(rank)"
   ]
  },
  {
   "cell_type": "code",
   "execution_count": 21,
   "metadata": {},
   "outputs": [
    {
     "data": {
      "text/plain": [
       "Counter({0: 4910,\n",
       "         1: 961,\n",
       "         2: 562,\n",
       "         3: 395,\n",
       "         4: 316,\n",
       "         5: 249,\n",
       "         6: 197,\n",
       "         7: 190,\n",
       "         8: 158,\n",
       "         9: 123,\n",
       "         10: 118,\n",
       "         11: 119,\n",
       "         12: 98,\n",
       "         13: 85,\n",
       "         14: 92,\n",
       "         15: 94,\n",
       "         16: 75,\n",
       "         17: 82,\n",
       "         18: 62,\n",
       "         19: 72,\n",
       "         20: 54,\n",
       "         21: 51,\n",
       "         22: 53,\n",
       "         23: 58,\n",
       "         24: 57,\n",
       "         25: 48,\n",
       "         26: 38,\n",
       "         27: 53,\n",
       "         28: 49,\n",
       "         29: 43,\n",
       "         30: 38,\n",
       "         31: 44,\n",
       "         32: 38,\n",
       "         33: 38,\n",
       "         34: 31,\n",
       "         35: 36,\n",
       "         36: 34,\n",
       "         37: 26,\n",
       "         38: 36,\n",
       "         39: 24,\n",
       "         40: 30,\n",
       "         41: 36,\n",
       "         42: 27,\n",
       "         43: 26,\n",
       "         44: 22,\n",
       "         45: 25,\n",
       "         46: 34,\n",
       "         47: 22,\n",
       "         48: 20,\n",
       "         49: 26,\n",
       "         50: 7425})"
      ]
     },
     "execution_count": 21,
     "metadata": {},
     "output_type": "execute_result"
    }
   ],
   "source": [
    "from collections import Counter\n",
    "Counter(ranks)"
   ]
  },
  {
   "cell_type": "code",
   "execution_count": 102,
   "metadata": {},
   "outputs": [
    {
     "data": {
      "text/plain": [
       "Counter({0: 9832,\n",
       "         1: 997,\n",
       "         2: 462,\n",
       "         3: 347,\n",
       "         4: 219,\n",
       "         5: 198,\n",
       "         6: 142,\n",
       "         7: 127,\n",
       "         8: 113,\n",
       "         9: 99,\n",
       "         10: 87,\n",
       "         11: 68,\n",
       "         12: 60,\n",
       "         13: 67,\n",
       "         14: 57,\n",
       "         15: 52,\n",
       "         16: 46,\n",
       "         17: 44,\n",
       "         18: 44,\n",
       "         19: 53,\n",
       "         20: 33,\n",
       "         21: 48,\n",
       "         22: 34,\n",
       "         23: 37,\n",
       "         24: 27,\n",
       "         25: 19,\n",
       "         26: 31,\n",
       "         27: 18,\n",
       "         28: 30,\n",
       "         29: 31,\n",
       "         30: 19,\n",
       "         31: 26,\n",
       "         32: 20,\n",
       "         33: 14,\n",
       "         34: 25,\n",
       "         35: 16,\n",
       "         36: 23,\n",
       "         37: 17,\n",
       "         38: 18,\n",
       "         39: 18,\n",
       "         40: 21,\n",
       "         41: 15,\n",
       "         42: 19,\n",
       "         43: 11,\n",
       "         44: 17,\n",
       "         45: 15,\n",
       "         46: 12,\n",
       "         47: 12,\n",
       "         48: 12,\n",
       "         49: 10,\n",
       "         50: 3738})"
      ]
     },
     "execution_count": 102,
     "metadata": {},
     "output_type": "execute_result"
    }
   ],
   "source": [
    "from collections import Counter\n",
    "Counter(ranks)"
   ]
  },
  {
   "cell_type": "raw",
   "metadata": {},
   "source": [
    "model.save(\"title_model.bin\")"
   ]
  }
 ],
 "metadata": {
  "kernelspec": {
   "display_name": "Python 3",
   "language": "python",
   "name": "python3"
  },
  "language_info": {
   "codemirror_mode": {
    "name": "ipython",
    "version": 3
   },
   "file_extension": ".py",
   "mimetype": "text/x-python",
   "name": "python",
   "nbconvert_exporter": "python",
   "pygments_lexer": "ipython3",
   "version": "3.5.2"
  }
 },
 "nbformat": 4,
 "nbformat_minor": 2
}
