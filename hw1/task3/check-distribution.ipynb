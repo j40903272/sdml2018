{
 "cells": [
  {
   "cell_type": "code",
   "execution_count": 1,
   "metadata": {},
   "outputs": [],
   "source": [
    "import pickle\n",
    "import numpy as np\n",
    "import pandas as pd\n",
    "import networkx as nx\n",
    "from scipy.spatial.distance import cosine\n",
    "%matplotlib inline"
   ]
  },
  {
   "cell_type": "code",
   "execution_count": 2,
   "metadata": {},
   "outputs": [
    {
     "name": "stdout",
     "output_type": "stream",
     "text": [
      "86381 edges\n",
      "12480 nodes\n"
     ]
    }
   ],
   "source": [
    "G_train = nx.read_edgelist('t3-train.txt', create_using=nx.DiGraph(), nodetype=int, edgetype=int)\n",
    "unG_train = nx.read_edgelist('t3-train.txt', create_using=nx.Graph(), nodetype=int, edgetype=int)\n",
    "print(len(G_train.edges), 'edges')\n",
    "print(len(G_train.nodes), 'nodes')"
   ]
  },
  {
   "cell_type": "code",
   "execution_count": 3,
   "metadata": {},
   "outputs": [
    {
     "name": "stdout",
     "output_type": "stream",
     "text": [
      "74798 edges\n",
      "10563 nodes\n"
     ]
    }
   ],
   "source": [
    "G_test = nx.read_edgelist('t3-test.txt', create_using=nx.DiGraph(), nodetype=int, edgetype=int)\n",
    "unG_test = nx.read_edgelist('t3-test.txt', create_using=nx.Graph(), nodetype=int, edgetype=int)\n",
    "print(len(G_test.edges), 'edges')\n",
    "print(len(G_test.nodes), 'nodes')\n",
    "\n",
    "test_x = []\n",
    "for fromId, toId in np.loadtxt('t3-test.txt'):\n",
    "    test_x.append((fromId,  toId))\n",
    "test_x = np.array(test_x).astype('int64')"
   ]
  },
  {
   "cell_type": "code",
   "execution_count": 4,
   "metadata": {},
   "outputs": [
    {
     "data": {
      "text/plain": [
       "7152"
      ]
     },
     "execution_count": 4,
     "metadata": {},
     "output_type": "execute_result"
    }
   ],
   "source": [
    "len(set(G_train.nodes) & set(G_test.nodes))"
   ]
  },
  {
   "cell_type": "code",
   "execution_count": 5,
   "metadata": {},
   "outputs": [],
   "source": [
    "import pickle\n",
    "with open(\"nodeMeta.pkl\", \"rb\") as f:\n",
    "    nodeMeta = pickle.load(f)"
   ]
  },
  {
   "cell_type": "code",
   "execution_count": 6,
   "metadata": {},
   "outputs": [],
   "source": [
    "df_test = pd.DataFrame()\n",
    "df_rand = pd.DataFrame()\n",
    "df_mysample = pd.DataFrame()"
   ]
  },
  {
   "cell_type": "markdown",
   "metadata": {},
   "source": [
    "# similarity"
   ]
  },
  {
   "cell_type": "code",
   "execution_count": 7,
   "metadata": {},
   "outputs": [],
   "source": [
    "tsim = []\n",
    "for i in test_x:\n",
    "    h, t = i[0], i[1]\n",
    "    head_vec = nodeMeta[h][\"tvec\"]\n",
    "    tail_vec = nodeMeta[t][\"tvec\"]\n",
    "    tsim.append(1-cosine(head_vec, tail_vec))\n",
    "    \n",
    "asim = []\n",
    "for i in test_x:\n",
    "    h, t = i[0], i[1]\n",
    "    head_vec = nodeMeta[h][\"avec\"]\n",
    "    tail_vec = nodeMeta[t][\"avec\"]\n",
    "    asim.append(1-cosine(head_vec, tail_vec))\n",
    "\n",
    "df_test['tsim'] = tsim\n",
    "df_test['asim'] = asim"
   ]
  },
  {
   "cell_type": "code",
   "execution_count": 8,
   "metadata": {},
   "outputs": [],
   "source": [
    "nodes = list(G_train.nodes)\n",
    "n = 5000\n",
    "r = np.random.randint(0, len(G_train.nodes), n*2)\n",
    "tsim = []\n",
    "asim = []\n",
    "\n",
    "for i in range(n):\n",
    "    h = nodes[r[i]]\n",
    "    t = nodes[r[i+n]]\n",
    "    head_vec = nodeMeta[h][\"tvec\"]\n",
    "    tail_vec = nodeMeta[t][\"tvec\"]\n",
    "    tsim.append(1-cosine(head_vec, tail_vec))\n",
    "    \n",
    "    head_vec = nodeMeta[h][\"avec\"]\n",
    "    tail_vec = nodeMeta[t][\"avec\"]\n",
    "    asim.append(1-cosine(head_vec, tail_vec))\n",
    "\n",
    "df_rand['tsim'] = tsim\n",
    "df_rand['asim'] = asim"
   ]
  },
  {
   "cell_type": "markdown",
   "metadata": {},
   "source": [
    "## plot"
   ]
  },
  {
   "cell_type": "code",
   "execution_count": 9,
   "metadata": {},
   "outputs": [
    {
     "data": {
      "text/plain": [
       "<matplotlib.axes._subplots.AxesSubplot at 0x7f5f0eadc5f8>"
      ]
     },
     "execution_count": 9,
     "metadata": {},
     "output_type": "execute_result"
    },
    {
     "data": {
      "image/png": "[encoded data removed]",
      "text/plain": [
       "<Figure size 432x288 with 1 Axes>"
      ]
     },
     "metadata": {},
     "output_type": "display_data"
    }
   ],
   "source": [
    "df_test.boxplot()"
   ]
  },
  {
   "cell_type": "code",
   "execution_count": 10,
   "metadata": {},
   "outputs": [
    {
     "data": {
      "text/plain": [
       "<matplotlib.axes._subplots.AxesSubplot at 0x7f5f0eab3f60>"
      ]
     },
     "execution_count": 10,
     "metadata": {},
     "output_type": "execute_result"
    },
    {
     "data": {
      "image/png": "[encoded data removed]",
      "text/plain": [
       "<Figure size 432x288 with 1 Axes>"
      ]
     },
     "metadata": {},
     "output_type": "display_data"
    }
   ],
   "source": [
    "df_rand.boxplot()"
   ]
  },
  {
   "cell_type": "code",
   "execution_count": 19,
   "metadata": {},
   "outputs": [
    {
     "data": {
      "text/plain": [
       "<matplotlib.axes._subplots.AxesSubplot at 0x7f5f0dd99e48>"
      ]
     },
     "execution_count": 19,
     "metadata": {},
     "output_type": "execute_result"
    },
    {
     "data": {
      "image/png": "[encoded data removed]",
      "text/plain": [
       "<Figure size 432x288 with 1 Axes>"
      ]
     },
     "metadata": {},
     "output_type": "display_data"
    }
   ],
   "source": [
    "df_mysample.boxplot()"
   ]
  },
  {
   "cell_type": "code",
   "execution_count": 11,
   "metadata": {},
   "outputs": [
    {
     "data": {
      "text/plain": [
       "array([[<matplotlib.axes._subplots.AxesSubplot object at 0x7f5f088b49b0>,\n",
       "        <matplotlib.axes._subplots.AxesSubplot object at 0x7f5f088b6470>]],\n",
       "      dtype=object)"
      ]
     },
     "execution_count": 11,
     "metadata": {},
     "output_type": "execute_result"
    },
    {
     "data": {
      "image/png": "[encoded data removed]",
      "text/plain": [
       "<Figure size 432x288 with 2 Axes>"
      ]
     },
     "metadata": {},
     "output_type": "display_data"
    }
   ],
   "source": [
    "df_test.hist(bins=30, density=True, log=True)"
   ]
  },
  {
   "cell_type": "code",
   "execution_count": 12,
   "metadata": {},
   "outputs": [
    {
     "data": {
      "text/plain": [
       "array([[<matplotlib.axes._subplots.AxesSubplot object at 0x7f5f0e53b748>,\n",
       "        <matplotlib.axes._subplots.AxesSubplot object at 0x7f5f0e51fef0>]],\n",
       "      dtype=object)"
      ]
     },
     "execution_count": 12,
     "metadata": {},
     "output_type": "execute_result"
    },
    {
     "data": {
      "image/png": "[encoded data removed]",
      "text/plain": [
       "<Figure size 432x288 with 2 Axes>"
      ]
     },
     "metadata": {},
     "output_type": "display_data"
    }
   ],
   "source": [
    "df_rand.hist(bins=30, density=True, log=True)"
   ]
  },
  {
   "cell_type": "code",
   "execution_count": 43,
   "metadata": {},
   "outputs": [
    {
     "data": {
      "text/plain": [
       "array([[<matplotlib.axes._subplots.AxesSubplot object at 0x7f5f0d705b00>,\n",
       "        <matplotlib.axes._subplots.AxesSubplot object at 0x7f5f0ce76048>]],\n",
       "      dtype=object)"
      ]
     },
     "execution_count": 43,
     "metadata": {},
     "output_type": "execute_result"
    },
    {
     "data": {
      "image/png": "[encoded data removed]",
      "text/plain": [
       "<Figure size 432x288 with 2 Axes>"
      ]
     },
     "metadata": {},
     "output_type": "display_data"
    }
   ],
   "source": [
    "df_mysample.hist(bins=30, log=True, density=True)"
   ]
  },
  {
   "cell_type": "markdown",
   "metadata": {},
   "source": [
    "* test similarity 比random高\n",
    "* test & samples 相近"
   ]
  },
  {
   "cell_type": "markdown",
   "metadata": {},
   "source": [
    "# shortest path length"
   ]
  },
  {
   "cell_type": "code",
   "execution_count": 18,
   "metadata": {},
   "outputs": [
    {
     "name": "stdout",
     "output_type": "stream",
     "text": [
      "335\n"
     ]
    }
   ],
   "source": [
    "di = []\n",
    "un = []\n",
    "\n",
    "for i in test_x:\n",
    "    if i[0] not in G_train.nodes or i[1] not in G_train.nodes:\n",
    "        continue\n",
    "    try:\n",
    "        l = nx.shortest_path_length(G_train, i[0], i[1])\n",
    "    except KeyboardInterrupt:\n",
    "        raise\n",
    "    except:\n",
    "        l = -3\n",
    "    try:\n",
    "        ll = nx.shortest_path_length(unG_train, i[0], i[1])\n",
    "    except KeyboardInterrupt:\n",
    "        raise\n",
    "    except:\n",
    "        ll = -3\n",
    "        \n",
    "    di.append(l)\n",
    "    un.append(ll)\n",
    "\n",
    "print(len(di))\n",
    "df = pd.DataFrame()\n",
    "df['di'] = di\n",
    "df['un'] = un"
   ]
  },
  {
   "cell_type": "code",
   "execution_count": 21,
   "metadata": {},
   "outputs": [],
   "source": [
    "di = []\n",
    "un = []\n",
    "\n",
    "for i in range(n):\n",
    "    h = nodes[r[i]]\n",
    "    t = nodes[r[i+n]]\n",
    "    try:\n",
    "        l = nx.shortest_path_length(G_train, h, t)\n",
    "    except KeyboardInterrupt:\n",
    "        raise\n",
    "    except:\n",
    "        l = -3\n",
    "    try:\n",
    "        ll = nx.shortest_path_length(unG_train, h, t)\n",
    "    except KeyboardInterrupt:\n",
    "        raise\n",
    "    except:\n",
    "        ll = -3\n",
    "        \n",
    "    di.append(l)\n",
    "    un.append(ll)\n",
    "\n",
    "df2 = pd.DataFrame()\n",
    "df2['di'] = di\n",
    "df2['un'] = un"
   ]
  },
  {
   "cell_type": "code",
   "execution_count": 19,
   "metadata": {},
   "outputs": [
    {
     "data": {
      "text/plain": [
       "<matplotlib.axes._subplots.AxesSubplot at 0x7f72eb6918d0>"
      ]
     },
     "execution_count": 19,
     "metadata": {},
     "output_type": "execute_result"
    },
    {
     "data": {
      "image/png": "[encoded data removed]",
      "text/plain": [
       "<Figure size 432x288 with 1 Axes>"
      ]
     },
     "metadata": {},
     "output_type": "display_data"
    }
   ],
   "source": [
    "df.boxplot()"
   ]
  },
  {
   "cell_type": "code",
   "execution_count": 22,
   "metadata": {},
   "outputs": [
    {
     "data": {
      "text/plain": [
       "<matplotlib.axes._subplots.AxesSubplot at 0x7f72eb67e9e8>"
      ]
     },
     "execution_count": 22,
     "metadata": {},
     "output_type": "execute_result"
    },
    {
     "data": {
      "image/png": "[encoded data removed]",
      "text/plain": [
       "<Figure size 432x288 with 1 Axes>"
      ]
     },
     "metadata": {},
     "output_type": "display_data"
    }
   ],
   "source": [
    "df2.boxplot()"
   ]
  },
  {
   "cell_type": "code",
   "execution_count": 20,
   "metadata": {},
   "outputs": [
    {
     "data": {
      "text/plain": [
       "array([[<matplotlib.axes._subplots.AxesSubplot object at 0x7f72eb5cd630>,\n",
       "        <matplotlib.axes._subplots.AxesSubplot object at 0x7f72eb532cc0>]],\n",
       "      dtype=object)"
      ]
     },
     "execution_count": 20,
     "metadata": {},
     "output_type": "execute_result"
    },
    {
     "data": {
      "image/png": "[encoded data removed]",
      "text/plain": [
       "<Figure size 432x288 with 2 Axes>"
      ]
     },
     "metadata": {},
     "output_type": "display_data"
    }
   ],
   "source": [
    "df.hist(bins=30)"
   ]
  },
  {
   "cell_type": "code",
   "execution_count": 23,
   "metadata": {},
   "outputs": [
    {
     "data": {
      "text/plain": [
       "array([[<matplotlib.axes._subplots.AxesSubplot object at 0x7f72eb3c1390>,\n",
       "        <matplotlib.axes._subplots.AxesSubplot object at 0x7f72eb1e5eb8>]],\n",
       "      dtype=object)"
      ]
     },
     "execution_count": 23,
     "metadata": {},
     "output_type": "execute_result"
    },
    {
     "data": {
      "image/png": "[encoded data removed]",
      "text/plain": [
       "<Figure size 432x288 with 2 Axes>"
      ]
     },
     "metadata": {},
     "output_type": "display_data"
    }
   ],
   "source": [
    "df2.hist(bins=30, density=True)"
   ]
  },
  {
   "cell_type": "code",
   "execution_count": 32,
   "metadata": {},
   "outputs": [],
   "source": [
    "di2 = []\n",
    "un2 = []\n",
    "\n",
    "for i in X:\n",
    "    h = i[0]\n",
    "    t = i[1]\n",
    "    try:\n",
    "        l = nx.shortest_path_length(G_train, h, t)\n",
    "    except KeyboardInterrupt:\n",
    "        raise\n",
    "    except:\n",
    "        l = -3\n",
    "    try:\n",
    "        ll = nx.shortest_path_length(unG_train, h, t)\n",
    "    except KeyboardInterrupt:\n",
    "        raise\n",
    "    except:\n",
    "        ll = -3\n",
    "        \n",
    "    di2.append(l)\n",
    "    un2.append(ll)"
   ]
  },
  {
   "cell_type": "code",
   "execution_count": 33,
   "metadata": {},
   "outputs": [],
   "source": [
    "df4 = pd.DataFrame()\n",
    "df4['di'] = di2\n",
    "df4['un'] = un2"
   ]
  },
  {
   "cell_type": "code",
   "execution_count": 34,
   "metadata": {},
   "outputs": [
    {
     "data": {
      "text/plain": [
       "<matplotlib.axes._subplots.AxesSubplot at 0x7f5f0cdbe5f8>"
      ]
     },
     "execution_count": 34,
     "metadata": {},
     "output_type": "execute_result"
    },
    {
     "data": {
      "image/png": "[encoded data removed]",
      "text/plain": [
       "<Figure size 432x288 with 1 Axes>"
      ]
     },
     "metadata": {},
     "output_type": "display_data"
    }
   ],
   "source": [
    "df4.boxplot()"
   ]
  },
  {
   "cell_type": "code",
   "execution_count": 35,
   "metadata": {},
   "outputs": [
    {
     "data": {
      "text/plain": [
       "array([[<matplotlib.axes._subplots.AxesSubplot object at 0x7f5f0cd132b0>,\n",
       "        <matplotlib.axes._subplots.AxesSubplot object at 0x7f5f0ccedb70>]],\n",
       "      dtype=object)"
      ]
     },
     "execution_count": 35,
     "metadata": {},
     "output_type": "execute_result"
    },
    {
     "data": {
      "image/png": "[encoded data removed]",
      "text/plain": [
       "<Figure size 432x288 with 2 Axes>"
      ]
     },
     "metadata": {},
     "output_type": "display_data"
    }
   ],
   "source": [
    "df4.hist(bins=30, density=True)"
   ]
  },
  {
   "cell_type": "markdown",
   "metadata": {},
   "source": [
    "* test 沒有directed\n",
    "* sample 較test遠"
   ]
  },
  {
   "cell_type": "markdown",
   "metadata": {},
   "source": [
    "## my sample"
   ]
  },
  {
   "cell_type": "code",
   "execution_count": 13,
   "metadata": {},
   "outputs": [],
   "source": [
    "def analysis(df):\n",
    "    tmp = []\n",
    "    n = 5\n",
    "    tmp.append(np.sort(df['tsim'].values)[:len(df)//n].mean())#0\n",
    "    tmp.append(np.sort(df['tsim'].values)[len(df)//n:].mean())\n",
    "    tmp.append(np.sort(df['asim'].values)[:len(df)//n].mean())\n",
    "    tmp.append(np.sort(df['asim'].values)[len(df)//n:].mean())#3\n",
    "    tmp.append(np.median(df['tsim'].values))#4\n",
    "    tmp.append(np.mean(df['tsim'].values))\n",
    "    tmp.append(np.median(df['asim'].values))#6\n",
    "    tmp.append(np.mean(df['asim'].values))\n",
    "    df_tmp = pd.DataFrame(data={0:tmp})\n",
    "    print(df_tmp)\n",
    "    print(df.quantile([0.15, 0.25, 0.5, 0.75, 0.95]))"
   ]
  },
  {
   "cell_type": "code",
   "execution_count": 40,
   "metadata": {},
   "outputs": [],
   "source": [
    "%store -r X2\n",
    "%store -r Y2\n",
    "X, Y = X2, Y2"
   ]
  },
  {
   "cell_type": "code",
   "execution_count": 41,
   "metadata": {},
   "outputs": [],
   "source": [
    "tsim = []\n",
    "for i in X:\n",
    "    h, t = i[0], i[1]\n",
    "    head_vec = nodeMeta[h][\"tvec\"]\n",
    "    tail_vec = nodeMeta[t][\"tvec\"]\n",
    "    tsim.append(1-cosine(head_vec, tail_vec))\n",
    "asim = []\n",
    "for i in X:\n",
    "    h, t = i[0], i[1]\n",
    "    head_vec = nodeMeta[h][\"avec\"]\n",
    "    tail_vec = nodeMeta[t][\"avec\"]\n",
    "    asim.append(1-cosine(head_vec, tail_vec))\n",
    "\n",
    "df_mysample = pd.DataFrame()\n",
    "df_mysample['tsim'] = tsim\n",
    "df_mysample['asim'] = asim"
   ]
  },
  {
   "cell_type": "code",
   "execution_count": 42,
   "metadata": {},
   "outputs": [
    {
     "name": "stdout",
     "output_type": "stream",
     "text": [
      "          0\n",
      "0  0.354867\n",
      "1  0.519554\n",
      "2  0.295869\n",
      "3  0.445872\n",
      "4  0.489219\n",
      "5  0.486618\n",
      "6  0.416675\n",
      "7  0.415873\n",
      "          tsim      asim\n",
      "0.15  0.391708  0.327432\n",
      "0.25  0.426155  0.359023\n",
      "0.50  0.489219  0.416675\n",
      "0.75  0.549634  0.473525\n",
      "0.95  0.633504  0.553730\n",
      "          0\n",
      "0  0.343312\n",
      "1  0.495982\n",
      "2  0.248810\n",
      "3  0.394854\n",
      "4  0.469008\n",
      "5  0.465448\n",
      "6  0.365529\n",
      "7  0.365645\n",
      "          tsim      asim\n",
      "0.15  0.380602  0.279827\n",
      "0.25  0.414425  0.309128\n",
      "0.50  0.469008  0.365529\n",
      "0.75  0.523371  0.421433\n",
      "0.95  0.593218  0.504280\n",
      "          0\n",
      "0  0.361688\n",
      "1  0.523975\n",
      "2  0.288713\n",
      "3  0.444079\n",
      "4  0.493592\n",
      "5  0.491517\n",
      "6  0.414232\n",
      "7  0.413006\n",
      "          tsim      asim\n",
      "0.15  0.398333  0.321032\n",
      "0.25  0.432128  0.354032\n",
      "0.50  0.493592  0.414232\n",
      "0.75  0.552786  0.472581\n",
      "0.95  0.637977  0.555601\n"
     ]
    }
   ],
   "source": [
    "dfs = [df_test, df_rand, df_mysample]\n",
    "\n",
    "for i in dfs:\n",
    "    analysis(i)"
   ]
  }
 ],
 "metadata": {
  "kernelspec": {
   "display_name": "Python 3",
   "language": "python",
   "name": "python3"
  },
  "language_info": {
   "codemirror_mode": {
    "name": "ipython",
    "version": 3
   },
   "file_extension": ".py",
   "mimetype": "text/x-python",
   "name": "python",
   "nbconvert_exporter": "python",
   "pygments_lexer": "ipython3",
   "version": "3.5.2"
  }
 },
 "nbformat": 4,
 "nbformat_minor": 2
}
