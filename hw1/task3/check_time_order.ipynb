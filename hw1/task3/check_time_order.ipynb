{
 "cells": [
  {
   "cell_type": "code",
   "execution_count": 1,
   "metadata": {},
   "outputs": [],
   "source": [
    "import pickle\n",
    "import numpy as np\n",
    "import pandas as pd\n",
    "import networkx as nx\n",
    "%matplotlib inline"
   ]
  },
  {
   "cell_type": "code",
   "execution_count": 2,
   "metadata": {},
   "outputs": [
    {
     "name": "stdout",
     "output_type": "stream",
     "text": [
      "86381 edges\n",
      "12480 nodes\n"
     ]
    }
   ],
   "source": [
    "G_train = nx.read_edgelist('t3-train.txt', create_using=nx.DiGraph(), nodetype=int, edgetype=int)\n",
    "unG_train = nx.read_edgelist('t3-train.txt', create_using=nx.Graph(), nodetype=int, edgetype=int)\n",
    "print(len(G_train.edges), 'edges')\n",
    "print(len(G_train.nodes), 'nodes')"
   ]
  },
  {
   "cell_type": "code",
   "execution_count": 3,
   "metadata": {},
   "outputs": [
    {
     "name": "stdout",
     "output_type": "stream",
     "text": [
      "74798 edges\n",
      "10563 nodes\n"
     ]
    }
   ],
   "source": [
    "G_test = nx.read_edgelist('t3-test.txt', create_using=nx.DiGraph(), nodetype=int, edgetype=int)\n",
    "unG_test = nx.read_edgelist('t3-test.txt', create_using=nx.Graph(), nodetype=int, edgetype=int)\n",
    "print(len(G_test.edges), 'edges')\n",
    "print(len(G_test.nodes), 'nodes')\n",
    "\n",
    "test_x = []\n",
    "for fromId, toId in np.loadtxt('t3-test.txt'):\n",
    "    test_x.append((fromId,  toId))\n",
    "test_x = np.array(test_x).astype('int64')"
   ]
  },
  {
   "cell_type": "code",
   "execution_count": 4,
   "metadata": {},
   "outputs": [],
   "source": [
    "with open('nodeMeta.pkl', 'rb') as f:\n",
    "    nodeMeta = pickle.load(f)"
   ]
  },
  {
   "cell_type": "code",
   "execution_count": 5,
   "metadata": {},
   "outputs": [],
   "source": [
    "node_list = np.array([i for i in nodeMeta])\n",
    "date_list = np.array([nodeMeta[i]['date'] for i in nodeMeta])\n",
    "sort_node = node_list[np.argsort(date_list)]\n",
    "# early -> late"
   ]
  },
  {
   "cell_type": "code",
   "execution_count": 6,
   "metadata": {},
   "outputs": [
    {
     "name": "stdout",
     "output_type": "stream",
     "text": [
      "[ 7785  8874  7337 15926   416  1140  4936  7840 16436   240]\n",
      "1992-01-02 00:00:00\n",
      "1992-01-02 00:00:00\n",
      "1992-01-02 00:00:00\n",
      "1992-01-03 00:00:00\n",
      "1992-01-06 17:16:14\n",
      "1992-01-08 00:00:00\n",
      "1992-01-08 00:00:00\n",
      "1992-01-09 00:00:00\n",
      "1992-01-09 00:00:00\n",
      "1992-01-11 00:00:00\n",
      "[ 4918 16494 10508  9532  3354  3995 11183 13598 15202  4966]\n",
      "2018-06-28 09:19:42\n",
      "2018-09-18 15:14:24\n",
      "2018-09-18 23:32:28\n",
      "2018-10-16 10:28:16\n",
      "2018-10-16 10:28:59\n",
      "2018-10-17 12:52:46\n",
      "2018-11-08 22:23:00\n",
      "2018-11-09 23:05:05\n",
      "2018-12-23 11:28:33\n",
      "2018-12-31 23:54:17\n"
     ]
    }
   ],
   "source": [
    "# check\n",
    "n = 10\n",
    "print(sort_node[:n])\n",
    "for i in sort_node[:n]:\n",
    "    print(nodeMeta[i]['date'])\n",
    "print(sort_node[-n:])\n",
    "for i in sort_node[-n:]:\n",
    "    print(nodeMeta[i]['date'])"
   ]
  },
  {
   "cell_type": "markdown",
   "metadata": {},
   "source": [
    "# time distrubution analysis"
   ]
  },
  {
   "cell_type": "code",
   "execution_count": 7,
   "metadata": {},
   "outputs": [
    {
     "name": "stdout",
     "output_type": "stream",
     "text": [
      "3246 9213\n"
     ]
    }
   ],
   "source": [
    "from_nodes = set()\n",
    "to_nodes = set()\n",
    "for edge in G_test.edges:\n",
    "    h, t = edge\n",
    "    from_nodes.add(h)\n",
    "    to_nodes.add(t)\n",
    "print(len(from_nodes), len(to_nodes))"
   ]
  },
  {
   "cell_type": "code",
   "execution_count": 8,
   "metadata": {},
   "outputs": [],
   "source": [
    "timerank = dict()\n",
    "for e, i in enumerate(sort_node):\n",
    "    timerank[i] = e"
   ]
  },
  {
   "cell_type": "code",
   "execution_count": 9,
   "metadata": {},
   "outputs": [
    {
     "name": "stdout",
     "output_type": "stream",
     "text": [
      "Stored 'timerank' (dict)\n"
     ]
    }
   ],
   "source": [
    "%store timerank"
   ]
  },
  {
   "cell_type": "code",
   "execution_count": 10,
   "metadata": {},
   "outputs": [
    {
     "data": {
      "text/plain": [
       "array([[<matplotlib.axes._subplots.AxesSubplot object at 0x7f5b1953b6d8>]],\n",
       "      dtype=object)"
      ]
     },
     "execution_count": 10,
     "metadata": {},
     "output_type": "execute_result"
    },
    {
     "data": {
      "image/png": "[encoded data removed]",
      "text/plain": [
       "<Figure size 432x288 with 1 Axes>"
      ]
     },
     "metadata": {},
     "output_type": "display_data"
    }
   ],
   "source": [
    "tmp = []\n",
    "for i in from_nodes:\n",
    "    tmp.append(timerank[i])\n",
    "df = pd.DataFrame(data={'from':tmp})\n",
    "df.hist(bins=1750)"
   ]
  },
  {
   "cell_type": "code",
   "execution_count": 11,
   "metadata": {},
   "outputs": [
    {
     "data": {
      "text/plain": [
       "array([[<matplotlib.axes._subplots.AxesSubplot object at 0x7f5b19610b00>]],\n",
       "      dtype=object)"
      ]
     },
     "execution_count": 11,
     "metadata": {},
     "output_type": "execute_result"
    },
    {
     "data": {
      "image/png": "[encoded data removed]",
      "text/plain": [
       "<Figure size 432x288 with 1 Axes>"
      ]
     },
     "metadata": {},
     "output_type": "display_data"
    }
   ],
   "source": [
    "tmp = []\n",
    "for i in to_nodes:\n",
    "    tmp.append(timerank[i])\n",
    "df = pd.DataFrame(data={'to':tmp})\n",
    "df.hist(bins=1750)"
   ]
  },
  {
   "cell_type": "markdown",
   "metadata": {},
   "source": [
    "* consistent in time series"
   ]
  },
  {
   "cell_type": "markdown",
   "metadata": {},
   "source": [
    "# my sample"
   ]
  },
  {
   "cell_type": "code",
   "execution_count": 13,
   "metadata": {},
   "outputs": [],
   "source": [
    "%store -r X2\n",
    "%store -r Y2\n",
    "%store -r timerank"
   ]
  },
  {
   "cell_type": "code",
   "execution_count": 14,
   "metadata": {},
   "outputs": [
    {
     "name": "stdout",
     "output_type": "stream",
     "text": [
      "10679 9602\n"
     ]
    }
   ],
   "source": [
    "from_nodes = set()\n",
    "to_nodes = set()\n",
    "for edge in X2:\n",
    "    h, t = edge\n",
    "    from_nodes.add(h)\n",
    "    to_nodes.add(t)\n",
    "print(len(from_nodes), len(to_nodes))"
   ]
  },
  {
   "cell_type": "code",
   "execution_count": 15,
   "metadata": {},
   "outputs": [
    {
     "data": {
      "text/plain": [
       "array([[<matplotlib.axes._subplots.AxesSubplot object at 0x7f5b1bc3ab70>]],\n",
       "      dtype=object)"
      ]
     },
     "execution_count": 15,
     "metadata": {},
     "output_type": "execute_result"
    },
    {
     "data": {
      "image/png": "[encoded data removed]",
      "text/plain": [
       "<Figure size 432x288 with 1 Axes>"
      ]
     },
     "metadata": {},
     "output_type": "display_data"
    }
   ],
   "source": [
    "tmp = []\n",
    "for i in from_nodes:\n",
    "    tmp.append(timerank[i])\n",
    "df = pd.DataFrame(data={'from':tmp})\n",
    "df.hist(bins=1750)"
   ]
  },
  {
   "cell_type": "code",
   "execution_count": 16,
   "metadata": {},
   "outputs": [
    {
     "data": {
      "text/plain": [
       "array([[<matplotlib.axes._subplots.AxesSubplot object at 0x7f5b1b54f588>]],\n",
       "      dtype=object)"
      ]
     },
     "execution_count": 16,
     "metadata": {},
     "output_type": "execute_result"
    },
    {
     "data": {
      "image/png": "[encoded data removed]",
      "text/plain": [
       "<Figure size 432x288 with 1 Axes>"
      ]
     },
     "metadata": {},
     "output_type": "display_data"
    }
   ],
   "source": [
    "tmp = []\n",
    "for i in to_nodes:\n",
    "    tmp.append(timerank[i])\n",
    "df = pd.DataFrame(data={'to':tmp})\n",
    "df.hist(bins=1750)"
   ]
  },
  {
   "cell_type": "code",
   "execution_count": null,
   "metadata": {},
   "outputs": [],
   "source": []
  },
  {
   "cell_type": "code",
   "execution_count": 26,
   "metadata": {},
   "outputs": [
    {
     "data": {
      "text/plain": [
       "array([[<matplotlib.axes._subplots.AxesSubplot object at 0x7f5b138aa358>]],\n",
       "      dtype=object)"
      ]
     },
     "execution_count": 26,
     "metadata": {},
     "output_type": "execute_result"
    },
    {
     "data": {
      "image/png": "[encoded data removed]",
      "text/plain": [
       "<Figure size 432x288 with 1 Axes>"
      ]
     },
     "metadata": {},
     "output_type": "display_data"
    }
   ],
   "source": [
    "tmp = []\n",
    "for edge in G_test.edges:\n",
    "    h, t = edge\n",
    "    tmp.append(timerank[h] - timerank[t])\n",
    "df = pd.DataFrame(data={'dist':tmp})\n",
    "df.hist(bins=100, density=True)"
   ]
  },
  {
   "cell_type": "code",
   "execution_count": 25,
   "metadata": {},
   "outputs": [
    {
     "data": {
      "text/plain": [
       "array([[<matplotlib.axes._subplots.AxesSubplot object at 0x7f5b13a28cf8>]],\n",
       "      dtype=object)"
      ]
     },
     "execution_count": 25,
     "metadata": {},
     "output_type": "execute_result"
    },
    {
     "data": {
      "image/png": "[encoded data removed]",
      "text/plain": [
       "<Figure size 432x288 with 1 Axes>"
      ]
     },
     "metadata": {},
     "output_type": "display_data"
    }
   ],
   "source": [
    "tmp = []\n",
    "for edge in X2:\n",
    "    h, t = edge\n",
    "    tmp.append(timerank[h] - timerank[t])\n",
    "df = pd.DataFrame(data={'dist':tmp})\n",
    "df.hist(bins=100, density=True)"
   ]
  }
 ],
 "metadata": {
  "kernelspec": {
   "display_name": "Python 3",
   "language": "python",
   "name": "python3"
  },
  "language_info": {
   "codemirror_mode": {
    "name": "ipython",
    "version": 3
   },
   "file_extension": ".py",
   "mimetype": "text/x-python",
   "name": "python",
   "nbconvert_exporter": "python",
   "pygments_lexer": "ipython3",
   "version": "3.5.2"
  }
 },
 "nbformat": 4,
 "nbformat_minor": 2
}
