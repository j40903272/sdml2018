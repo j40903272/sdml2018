{
 "cells": [
  {
   "cell_type": "code",
   "execution_count": 10,
   "metadata": {},
   "outputs": [],
   "source": [
    "import pickle\n",
    "import numpy as np\n",
    "import pandas as pd\n",
    "import networkx as nx"
   ]
  },
  {
   "cell_type": "code",
   "execution_count": 11,
   "metadata": {},
   "outputs": [
    {
     "name": "stdout",
     "output_type": "stream",
     "text": [
      "86381 edges\n",
      "12480 nodes\n"
     ]
    }
   ],
   "source": [
    "G_train = nx.read_edgelist('t3-train.txt', create_using=nx.DiGraph(), nodetype=int, edgetype=int)\n",
    "unG_train = nx.read_edgelist('t3-train.txt', create_using=nx.Graph(), nodetype=int, edgetype=int)\n",
    "print(len(G_train.edges), 'edges')\n",
    "print(len(G_train.nodes), 'nodes')"
   ]
  },
  {
   "cell_type": "code",
   "execution_count": 12,
   "metadata": {},
   "outputs": [
    {
     "name": "stdout",
     "output_type": "stream",
     "text": [
      "74798 edges\n",
      "10563 nodes\n"
     ]
    }
   ],
   "source": [
    "G_test = nx.read_edgelist('t3-test.txt', create_using=nx.DiGraph(), nodetype=int, edgetype=int)\n",
    "unG_test = nx.read_edgelist('t3-test.txt', create_using=nx.Graph(), nodetype=int, edgetype=int)\n",
    "print(len(G_test.edges), 'edges')\n",
    "print(len(G_test.nodes), 'nodes')\n",
    "\n",
    "test_x = []\n",
    "for fromId, toId in np.loadtxt('t3-test.txt'):\n",
    "    test_x.append((fromId,  toId))\n",
    "test_x = np.array(test_x).astype('int64')"
   ]
  },
  {
   "cell_type": "code",
   "execution_count": 13,
   "metadata": {},
   "outputs": [],
   "source": [
    "with open('nodeMeta.pkl', 'rb') as f:\n",
    "    nodeMeta = pickle.load(f)"
   ]
  },
  {
   "cell_type": "code",
   "execution_count": 14,
   "metadata": {},
   "outputs": [
    {
     "data": {
      "text/plain": [
       "(12480, 800)"
      ]
     },
     "execution_count": 14,
     "metadata": {},
     "output_type": "execute_result"
    }
   ],
   "source": [
    "nodes = list(G_train.nodes)\n",
    "emb = []\n",
    "trans = dict()\n",
    "for e, i in enumerate(G_train.nodes):\n",
    "    t = nodeMeta[i][\"tvec\"]\n",
    "    a = nodeMeta[i][\"avec\"]\n",
    "    tmp = np.hstack([t, a])\n",
    "    emb.append(tmp)\n",
    "    trans[i] = e\n",
    "    \n",
    "emb = np.array(emb)\n",
    "emb.shape"
   ]
  },
  {
   "cell_type": "code",
   "execution_count": 15,
   "metadata": {},
   "outputs": [
    {
     "data": {
      "text/plain": [
       "NearestNeighbors(algorithm='auto', leaf_size=30, metric='minkowski',\n",
       "         metric_params=None, n_jobs=1, n_neighbors=5, p=2, radius=1.0)"
      ]
     },
     "execution_count": 15,
     "metadata": {},
     "output_type": "execute_result"
    }
   ],
   "source": [
    "from sklearn.neighbors import NearestNeighbors\n",
    "neigh = NearestNeighbors()\n",
    "neigh.fit(emb)"
   ]
  },
  {
   "cell_type": "code",
   "execution_count": 16,
   "metadata": {},
   "outputs": [
    {
     "name": "stdout",
     "output_type": "stream",
     "text": [
      "100%\n",
      "169941 169941\n"
     ]
    }
   ],
   "source": [
    "X, Y = [], []\n",
    "size = []\n",
    "\n",
    "for e, node in enumerate(G_train.nodes):\n",
    "    node_emb = emb[trans[node]].reshape(1, -1)\n",
    "    pos_nodes = set(G_train.successors(node))\n",
    "    test_nodes = set(G_test.successors(node)) if node in G_test.nodes else set()\n",
    "    \n",
    "    \n",
    "    # 4 step bfs\n",
    "    #'''\n",
    "    neg_nodes = set()\n",
    "    cand = [node]\n",
    "    for _ in range(4):\n",
    "        new = set()\n",
    "        for i in cand:\n",
    "            tmp = set(G_train.successors(i))\n",
    "            new = new | tmp\n",
    "        new = new - neg_nodes - set([node])\n",
    "        neg_nodes = neg_nodes | new\n",
    "        cand = list(new)\n",
    "    \n",
    "    neg_nodes = neg_nodes - pos_nodes - test_nodes - set([node])\n",
    "    neg_samples = np.random.choice(list(neg_nodes), int(len(pos_nodes) * 1)) if neg_nodes else []\n",
    "    size.append(len(neg_nodes))\n",
    "    #'''\n",
    "    \n",
    "    # high similarity\n",
    "    '''\n",
    "    neg_nodes = set(G_train.nodes) - pos_nodes - test_nodes - set([node])\n",
    "    idx = neigh.kneighbors(node_emb, len(G_train.nodes), return_distance=False)[0][:17500//4]\n",
    "    neg_samples = np.random.choice(idx, int(len(pos_nodes) * 1)) if neg_nodes else []\n",
    "    neg_samples = [nodes[i] for i in neg_samples]\n",
    "#     neg_samples = []\n",
    "#     for i in idx:\n",
    "#         if nodes[i] in neg_nodes:\n",
    "#             neg_samples.append(nodes[i])\n",
    "#         if len(neg_samples) >= len(pos_nodes):\n",
    "#             break\n",
    "    '''\n",
    "    \n",
    "\n",
    "    for pos in pos_nodes:\n",
    "        X.append((node, pos))\n",
    "        Y.append(1)\n",
    "\n",
    "    for neg in neg_samples:\n",
    "        X.append((node, neg))\n",
    "        Y.append(0)\n",
    "\n",
    "    print(np.round(e/len(G_train), 2), end='\\r')\n",
    "print(\"100%\")\n",
    "print(len(X), len(Y))"
   ]
  },
  {
   "cell_type": "code",
   "execution_count": 17,
   "metadata": {},
   "outputs": [
    {
     "name": "stdout",
     "output_type": "stream",
     "text": [
      "169941 169941\n",
      "Stored 'X2' (list)\n",
      "Stored 'Y2' (list)\n"
     ]
    }
   ],
   "source": [
    "print(len(X), len(Y))\n",
    "X = np.array(X)\n",
    "Y = np.array(Y)\n",
    "\n",
    "df = pd.DataFrame()\n",
    "df['head'] = X[:, 0]\n",
    "df['tail'] = X[:, 1]\n",
    "df['label'] = Y[:, 0]\n",
    "\n",
    "prefix = \"4step_\"\n",
    "df.to_csv(prefix+\"sample.csv\", index=False)"
   ]
  },
  {
   "cell_type": "code",
   "execution_count": 9,
   "metadata": {},
   "outputs": [
    {
     "name": "stdout",
     "output_type": "stream",
     "text": [
      "9.0\n",
      "44.25064102564102\n"
     ]
    },
    {
     "data": {
      "image/png": "[encoded data removed]",
      "text/plain": [
       "<Figure size 432x288 with 1 Axes>"
      ]
     },
     "metadata": {},
     "output_type": "display_data"
    }
   ],
   "source": [
    "%matplotlib inline\n",
    "df = pd.DataFrame()\n",
    "df['size'] = size\n",
    "df.hist(bins=30)\n",
    "print(np.median(size))\n",
    "print(np.mean(size))"
   ]
  }
 ],
 "metadata": {
  "kernelspec": {
   "display_name": "Python 3",
   "language": "python",
   "name": "python3"
  },
  "language_info": {
   "codemirror_mode": {
    "name": "ipython",
    "version": 3
   },
   "file_extension": ".py",
   "mimetype": "text/x-python",
   "name": "python",
   "nbconvert_exporter": "python",
   "pygments_lexer": "ipython3",
   "version": "3.5.2"
  }
 },
 "nbformat": 4,
 "nbformat_minor": 2
}
