{
 "cells": [
  {
   "cell_type": "code",
   "execution_count": 1,
   "metadata": {},
   "outputs": [],
   "source": [
    "import re\n",
    "import os\n",
    "import pickle\n",
    "import nltk\n",
    "from nltk import RegexpTokenizer\n",
    "from nltk.corpus import stopwords\n",
    "from dateutil import parser\n",
    "## datetime.datetime : year, month, day, hour, minute, second, microsecond, tzinfo."
   ]
  },
  {
   "cell_type": "code",
   "execution_count": 2,
   "metadata": {},
   "outputs": [],
   "source": [
    "def parse(path):\n",
    "    date = \"\"\n",
    "    title = \"\"\n",
    "    abstract = \"\"\n",
    "    with open(path, 'r') as f:\n",
    "        for line in f:\n",
    "            if \"<date>\" in line:\n",
    "                continue\n",
    "            elif \"</date>\" in line:\n",
    "                break\n",
    "            else:\n",
    "                date += line\n",
    "        \n",
    "        for line in f:\n",
    "            if \"<title>\" in line:\n",
    "                continue\n",
    "            elif \"</title>\" in line:\n",
    "                break\n",
    "            else:\n",
    "                title += line\n",
    "\n",
    "        for line in f:\n",
    "            if \"<abstract>\" in line:\n",
    "                continue\n",
    "            elif \"</abstract>\" in line:\n",
    "                break\n",
    "            else:\n",
    "                abstract += line\n",
    "    \n",
    "    return parser.parse(\" \".join(date.split()[:4]), ignoretz=True), nlp_clean(title.split()), nlp_clean(abstract.split())"
   ]
  },
  {
   "cell_type": "code",
   "execution_count": 3,
   "metadata": {},
   "outputs": [],
   "source": [
    "tokenizer = RegexpTokenizer(r'\\w+')\n",
    "stopword_set = set(stopwords.words('english'))\n",
    "\n",
    "def nlp_clean(data):\n",
    "    new_data = []\n",
    "    for d in data:\n",
    "        new_str = d.lower()\n",
    "        dlist = tokenizer.tokenize(new_str)\n",
    "        tmp = []\n",
    "        for i in dlist:\n",
    "            if i not in stopword_set:\n",
    "                tmp.append(i)\n",
    "        new_data += tmp\n",
    "    return new_data"
   ]
  },
  {
   "cell_type": "code",
   "execution_count": 4,
   "metadata": {},
   "outputs": [
    {
     "name": "stdout",
     "output_type": "stream",
     "text": [
      "17500\n"
     ]
    }
   ],
   "source": [
    "nodeMeta = dict()\n",
    "dn = \"t3-doc\"\n",
    "for e, fn in enumerate(os.listdir(dn)):\n",
    "    try:\n",
    "        idx = int(fn.split('.')[0])\n",
    "        path = os.path.join(dn, fn)\n",
    "        xml = open(path).read()\n",
    "        date, title, abstract = parse(path)\n",
    "        \n",
    "        nodeMeta[idx] = dict()\n",
    "        nodeMeta[idx][\"date\"] = date\n",
    "        nodeMeta[idx][\"title\"] = title\n",
    "        nodeMeta[idx][\"abstract\"] = abstract\n",
    "        print(e, end='\\r')\n",
    "    except:\n",
    "        print('ERROR', fn)\n",
    "        raise\n",
    "\n",
    "\n",
    "print(len(nodeMeta))\n",
    "with open(\"nodeMeta.pkl\", 'wb') as f:\n",
    "    pickle.dump(nodeMeta, f)"
   ]
  },
  {
   "cell_type": "code",
   "execution_count": 5,
   "metadata": {
    "scrolled": true
   },
   "outputs": [
    {
     "name": "stdout",
     "output_type": "stream",
     "text": [
      "1997-12-08 00:00:00\n",
      "['soft', 'dynamics', 'gauge', 'theories']\n",
      "['infra', 'red', 'divergences', 'obscure', 'underlying', 'soft', 'dynamics', 'gauge', 'theories', 'remove', 'pole', 'structures', 'associated', 'particle', 'propagation', 'various', 'green', 'functions', 'gauge', 'theories', 'present', 'solution', 'problem', 'give', 'two', 'equations', 'describe', 'charged', 'particles', 'must', 'dressed', 'gauge', 'degrees', 'freedom', 'one', 'follows', 'gauge', 'invariance', 'new', 'velocity', 'superselection', 'rules', 'familiar', 'heavy', 'quark', 'effective', 'theory', 'solution', 'equations', 'abelian', 'theory', 'proven', 'lead', 'shell', 'green', 'functions', 'free', 'soft', 'divergences', 'orders', 'perturbation', 'theory']\n"
     ]
    }
   ],
   "source": [
    "print(nodeMeta[1][\"date\"])\n",
    "print(nodeMeta[1][\"title\"])\n",
    "print(nodeMeta[1][\"abstract\"])"
   ]
  },
  {
   "cell_type": "code",
   "execution_count": 6,
   "metadata": {},
   "outputs": [],
   "source": [
    "dates = []\n",
    "for i in nodeMeta:\n",
    "    dates.append(nodeMeta[i]['date'])"
   ]
  },
  {
   "cell_type": "code",
   "execution_count": 7,
   "metadata": {},
   "outputs": [
    {
     "data": {
      "text/plain": [
       "[datetime.datetime(1997, 12, 8, 0, 0),\n",
       " datetime.datetime(2000, 2, 21, 0, 0),\n",
       " datetime.datetime(2001, 6, 20, 0, 0),\n",
       " datetime.datetime(1993, 1, 26, 0, 0),\n",
       " datetime.datetime(2001, 5, 18, 0, 0),\n",
       " datetime.datetime(2002, 5, 10, 0, 0),\n",
       " datetime.datetime(2003, 3, 7, 0, 0),\n",
       " datetime.datetime(2000, 7, 16, 0, 0),\n",
       " datetime.datetime(1994, 2, 2, 0, 0),\n",
       " datetime.datetime(1995, 12, 9, 0, 0),\n",
       " datetime.datetime(1996, 12, 9, 0, 0),\n",
       " datetime.datetime(1999, 12, 23, 0, 0),\n",
       " datetime.datetime(1995, 12, 6, 0, 0),\n",
       " datetime.datetime(2000, 1, 13, 0, 0),\n",
       " datetime.datetime(1996, 5, 29, 0, 0),\n",
       " datetime.datetime(1997, 5, 20, 0, 0),\n",
       " datetime.datetime(1998, 11, 3, 0, 0),\n",
       " datetime.datetime(1993, 6, 11, 0, 0),\n",
       " datetime.datetime(2002, 12, 26, 0, 0),\n",
       " datetime.datetime(1998, 6, 17, 0, 0),\n",
       " datetime.datetime(1995, 11, 12, 0, 0),\n",
       " datetime.datetime(2003, 2, 13, 0, 0),\n",
       " datetime.datetime(1994, 7, 3, 0, 0),\n",
       " datetime.datetime(2002, 11, 24, 0, 0),\n",
       " datetime.datetime(1998, 7, 23, 0, 0),\n",
       " datetime.datetime(1994, 4, 20, 0, 0),\n",
       " datetime.datetime(1995, 9, 15, 0, 0),\n",
       " datetime.datetime(1993, 5, 4, 0, 0),\n",
       " datetime.datetime(2001, 3, 9, 0, 0),\n",
       " datetime.datetime(1992, 2, 29, 0, 0),\n",
       " datetime.datetime(1998, 4, 30, 0, 0),\n",
       " datetime.datetime(1998, 7, 5, 0, 0),\n",
       " datetime.datetime(1996, 5, 2, 0, 0),\n",
       " datetime.datetime(1995, 6, 7, 0, 0),\n",
       " datetime.datetime(1993, 11, 17, 0, 0),\n",
       " datetime.datetime(2000, 5, 17, 0, 0),\n",
       " datetime.datetime(1992, 1, 17, 0, 0),\n",
       " datetime.datetime(1996, 5, 31, 0, 0),\n",
       " datetime.datetime(2002, 7, 18, 0, 0),\n",
       " datetime.datetime(1997, 3, 13, 0, 0),\n",
       " datetime.datetime(1996, 5, 16, 0, 0),\n",
       " datetime.datetime(2000, 10, 11, 0, 0),\n",
       " datetime.datetime(1996, 3, 12, 0, 0),\n",
       " datetime.datetime(1999, 10, 12, 0, 0),\n",
       " datetime.datetime(1994, 3, 9, 0, 0),\n",
       " datetime.datetime(2002, 8, 10, 0, 0),\n",
       " datetime.datetime(1997, 12, 6, 0, 0),\n",
       " datetime.datetime(2001, 6, 13, 0, 0),\n",
       " datetime.datetime(1999, 4, 28, 0, 0),\n",
       " datetime.datetime(2002, 12, 19, 0, 0)]"
      ]
     },
     "execution_count": 7,
     "metadata": {},
     "output_type": "execute_result"
    }
   ],
   "source": [
    "dates[:50]"
   ]
  },
  {
   "cell_type": "raw",
   "metadata": {},
   "source": [
    "re.search(\"date>\\n.*\\n</date>\", xml, flags=re.DOTALL).group(0)"
   ]
  }
 ],
 "metadata": {
  "kernelspec": {
   "display_name": "Python 3",
   "language": "python",
   "name": "python3"
  },
  "language_info": {
   "codemirror_mode": {
    "name": "ipython",
    "version": 3
   },
   "file_extension": ".py",
   "mimetype": "text/x-python",
   "name": "python",
   "nbconvert_exporter": "python",
   "pygments_lexer": "ipython3",
   "version": "3.5.2"
  }
 },
 "nbformat": 4,
 "nbformat_minor": 2
}
