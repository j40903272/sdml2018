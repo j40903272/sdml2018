{
 "cells": [
  {
   "cell_type": "code",
   "execution_count": 1,
   "metadata": {},
   "outputs": [
    {
     "name": "stderr",
     "output_type": "stream",
     "text": [
      "Using TensorFlow backend.\n"
     ]
    },
    {
     "data": {
      "text/plain": [
       "'2.3.0'"
      ]
     },
     "execution_count": 1,
     "metadata": {},
     "output_type": "execute_result"
    }
   ],
   "source": [
    "import gensim\n",
    "gensim.__version__"
   ]
  },
  {
   "cell_type": "code",
   "execution_count": 2,
   "metadata": {},
   "outputs": [],
   "source": [
    "pre_model = gensim.models.Doc2Vec.load(\"enwiki_dbow/doc2vec.bin\")\n",
    "title_model = gensim.models.Doc2Vec.load(\"title_model.bin\")\n",
    "abstract_model = gensim.models.Doc2Vec.load(\"abstract_model.bin\")"
   ]
  },
  {
   "cell_type": "code",
   "execution_count": 3,
   "metadata": {},
   "outputs": [],
   "source": [
    "import pickle\n",
    "with open('nodeMeta.pkl', 'rb') as f:\n",
    "    nodeMeta = pickle.load(f)"
   ]
  },
  {
   "cell_type": "code",
   "execution_count": 4,
   "metadata": {},
   "outputs": [],
   "source": [
    "from sklearn.metrics.pairwise import cosine_similarity\n",
    "import numpy as np\n",
    "from scipy.spatial.distance import cosine"
   ]
  },
  {
   "cell_type": "code",
   "execution_count": 5,
   "metadata": {},
   "outputs": [
    {
     "name": "stdout",
     "output_type": "stream",
     "text": [
      "CPU times: user 22.6 s, sys: 713 µs, total: 22.6 s\n",
      "Wall time: 22.6 s\n"
     ]
    }
   ],
   "source": [
    "%%time\n",
    "for node in nodeMeta:\n",
    "    emb1 = pre_model.infer_vector(nodeMeta[node][\"title\"])\n",
    "    emb2 = title_model.infer_vector(nodeMeta[node][\"title\"])\n",
    "    nodeMeta[node]['tvec'] = np.hstack([emb1, emb2])\n",
    "    emb1 = pre_model.infer_vector(nodeMeta[node][\"abstract\"])\n",
    "    emb2 = abstract_model.infer_vector(nodeMeta[node][\"abstract\"])\n",
    "    nodeMeta[node]['avec'] = np.hstack([emb1, emb2])"
   ]
  },
  {
   "cell_type": "code",
   "execution_count": 6,
   "metadata": {},
   "outputs": [],
   "source": [
    "with open('nodeMeta.pkl', 'wb') as f:\n",
    "    pickle.dump(nodeMeta, f)"
   ]
  },
  {
   "cell_type": "code",
   "execution_count": 7,
   "metadata": {},
   "outputs": [
    {
     "name": "stdout",
     "output_type": "stream",
     "text": [
      "['investigate', 'quantum', 'field', 'theory', 'bulk', 'space', 'boundary', 'represents', '3', 'brane', 'flat', 'anti', 'de', 'sitter', 'backgrounds', 'considered', 'basic', 'idea', 'keep', 'local', 'commutativity', 'brane', 'giving', 'requirement', 'bulk', 'explore', 'consequences', 'proposal', 'constructing', 'large', 'family', 'nonlocal', 'bulk', 'fields', 'whose', 'brane', 'relatives', 'local', 'estimate', 'ultraviolet', 'behavior', 'local', 'brane', 'fields', 'characterizing', 'subfamily', 'generates', 'renormalizable', 'theories', 'brane', 'issue', 'brane', 'conformal', 'invariance', 'relation', 'bulk', 'brane', 'conserved', 'currents', 'also', 'examined', 'framework']\n",
      "\n",
      "0.26325816 0.7367418110370636\n",
      "['infra', 'red', 'divergences', 'obscure', 'underlying', 'soft', 'dynamics', 'gauge', 'theories', 'remove', 'pole', 'structures', 'associated', 'particle', 'propagation', 'various', 'green', 'functions', 'gauge', 'theories', 'present', 'solution', 'problem', 'give', 'two', 'equations', 'describe', 'charged', 'particles', 'must', 'dressed', 'gauge', 'degrees', 'freedom', 'one', 'follows', 'gauge', 'invariance', 'new', 'velocity', 'superselection', 'rules', 'familiar', 'heavy', 'quark', 'effective', 'theory', 'solution', 'equations', 'abelian', 'theory', 'proven', 'lead', 'shell', 'green', 'functions', 'free', 'soft', 'divergences', 'orders', 'perturbation', 'theory']\n",
      "\n",
      "\n",
      "0.38385332 0.6161466538906097\n",
      "['describe', 'mechanism', 'localising', 'branes', 'ambient', 'space', '3', 'form', 'flux', 'turned', 'taub', 'nut', 'space', 'm5', 'brane', 'gets', 'effective', 'potential', 'pins', 'center', 'space', 'similar', 'effect', 'occurs', 'm2', 'branes', 'branes', 'appropriate', 'fluxes', 'carefully', 'chosen', 'limits', 'external', 'parameters', 'leads', 'new', 'theories', 'decoupled', 'gravity', 'appear', 'break', 'lorentz', 'invariance', 'example', 'predict', 'existence', 'new', '5', '1d', 'theory', 'breaks', 'lorentz', 'invariance', 'high', 'energy', 'low', 'energy', 'description', 'n', 'tensor', 'multiplets', '1', '0', 'supersymmetry', 'also', 'predict', 'new', 'type', 'theory', 'similarly', 'little', 'string', 'theory', 'decouples', 'gravity', 'dynamical', 'rather', 'kinematical', 'argument']\n",
      "\n",
      "\n",
      "0.30073863 0.6992613971233368\n",
      "['study', 'effect', 'noncommutativity', 'space', 'physics', 'quantum', 'interferometer', 'located', 'rotating', 'disk', 'gauge', 'field', 'background', 'end', 'develop', 'path', 'integral', 'approach', 'allows', 'defining', 'effective', 'action', 'relevant', 'physical', 'quantities', 'computed', 'usual', 'commutative', 'case', 'specific', 'case', 'constant', 'magnetic', 'field', 'able', 'compute', 'exactly', 'noncommutative', 'lagrangian', 'associated', 'shift', 'interference', 'pattern', 'value', 'theta']\n",
      "\n",
      "\n",
      "0.22580305 0.7741969674825668\n",
      "['perform', 'sewing', 'two', 'dual', 'ramond', 'reggeon', 'vertices', 'derive', 'algorithm', 'means', 'obtained', 'four', 'ramond', 'reggeon', 'vertex', 'may', 'explicitly', 'computed', 'arbitrary', 'oscillator', 'mass', 'level', 'closed', 'form', 'four', 'vertex', 'deduced', 'basis', 'comparison', 'terms', 'obtained', 'sewing', 'contain', 'level', 'zero', 'one', 'oscillators', 'results', 'presented', 'complex', 'fermions', 'previously', 'studied', 'case', 'real', 'fermions']\n",
      "\n",
      "\n",
      "0.27855474 0.721445232629776\n",
      "['show', 'explicitly', 'partially', 'strictly', 'massless', 'fields', 'spins', '3', 'ds', 'null', 'propagation', 'assuming', 'property', 'holds', 'also', '3', 'derive', 'mass', 'cosmological', 'constant', 'tunings', 'required', 'yield', 'higher', 'spin', 'partially', 'massless', 'theories', 'increases', 'unitarily', 'allowed', 'region', 'massive', 'spins', 'squeezed', 'around', 'lambda', '0', 'infinite', 'tower', 'massive', 'particles', 'forces', 'vanishing', 'lambda', 'also', 'speculate', 'relevance', 'result', 'string', 'theory', 'supergravity', 'ds', 'backgrounds']\n",
      "\n",
      "\n"
     ]
    }
   ],
   "source": [
    "r = np.random.randint(0, len(nodeMeta), 1)[0]\n",
    "print(nodeMeta[r][\"abstract\"])\n",
    "print()\n",
    "test_vec = nodeMeta[r][\"avec\"]\n",
    "\n",
    "for i, j in zip(nodeMeta, range(5)):\n",
    "    vec = nodeMeta[i][\"avec\"]\n",
    "    sim = cosine_similarity(vec.reshape(1, -1), test_vec.reshape(1, -1))[0][0]\n",
    "    print(sim, cosine(vec, test_vec))\n",
    "    print(nodeMeta[i]['abstract'])\n",
    "    print()\n",
    "    print()"
   ]
  }
 ],
 "metadata": {
  "kernelspec": {
   "display_name": "Python 3",
   "language": "python",
   "name": "python3"
  },
  "language_info": {
   "codemirror_mode": {
    "name": "ipython",
    "version": 3
   },
   "file_extension": ".py",
   "mimetype": "text/x-python",
   "name": "python",
   "nbconvert_exporter": "python",
   "pygments_lexer": "ipython3",
   "version": "3.5.2"
  }
 },
 "nbformat": 4,
 "nbformat_minor": 2
}
