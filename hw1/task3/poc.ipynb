{
 "cells": [
  {
   "cell_type": "code",
   "execution_count": 1,
   "metadata": {},
   "outputs": [],
   "source": [
    "import pickle\n",
    "import numpy as np\n",
    "import pandas as pd\n",
    "from sklearn import metrics\n",
    "from sklearn.preprocessing import scale\n",
    "from scipy.spatial.distance import cosine\n",
    "from simhash import Simhash\n",
    "import re\n",
    "%matplotlib inline"
   ]
  },
  {
   "cell_type": "code",
   "execution_count": 2,
   "metadata": {},
   "outputs": [],
   "source": [
    "def record(pred):\n",
    "    df = pd.read_csv('history.csv', header=None)\n",
    "    df[len(df.columns)] = pred\n",
    "    df.to_csv('history.csv', header=None, index=False)"
   ]
  },
  {
   "cell_type": "code",
   "execution_count": 3,
   "metadata": {},
   "outputs": [
    {
     "name": "stdout",
     "output_type": "stream",
     "text": [
      "(169941, 2) (169941,)\n"
     ]
    }
   ],
   "source": [
    "prefix = \"4step_\"\n",
    "df = pd.read_csv(prefix+\"sample.csv\")\n",
    "X = np.squeeze(np.dstack([df['head'].values, df['tail'].values]))\n",
    "Y = df['label'].values\n",
    "print(X.shape, Y.shape)"
   ]
  },
  {
   "cell_type": "code",
   "execution_count": 4,
   "metadata": {},
   "outputs": [],
   "source": [
    "with open(\"nodeMeta.pkl\", 'rb') as f:\n",
    "    nodeMeta = pickle.load(f)"
   ]
  },
  {
   "cell_type": "code",
   "execution_count": 5,
   "metadata": {},
   "outputs": [],
   "source": [
    "test_x = []\n",
    "for fromId, toId in np.loadtxt('t3-test.txt'):\n",
    "    test_x.append((fromId,  toId))\n",
    "test_x = np.array(test_x).astype('int64')"
   ]
  },
  {
   "cell_type": "code",
   "execution_count": 6,
   "metadata": {},
   "outputs": [],
   "source": [
    "prefix = \"4step_\"\n",
    "with open(prefix+'feat.pkl', 'rb') as f:\n",
    "    feat = pickle.load(f)\n",
    "with open(prefix+'test_f.pkl', 'rb') as f:\n",
    "    test_f = pickle.load(f)\n",
    "print(feat.shape, test_f.shape)"
   ]
  },
  {
   "cell_type": "code",
   "execution_count": 7,
   "metadata": {},
   "outputs": [],
   "source": [
    "split = int(len(X)*0.95)\n",
    "train_f, val_f = feat[:split], feat[split:]\n",
    "train_y, val_y = Y[:split], Y[split:]"
   ]
  },
  {
   "cell_type": "code",
   "execution_count": 8,
   "metadata": {},
   "outputs": [
    {
     "name": "stderr",
     "output_type": "stream",
     "text": [
      "/home/dada/.local/lib/python3.5/site-packages/sklearn/cross_validation.py:41: DeprecationWarning: This module was deprecated in version 0.18 in favor of the model_selection module into which all the refactored classes and functions are moved. Also note that the interface of the new CV iterators are different from that of this module. This module will be removed in 0.20.\n",
      "  \"This module will be removed in 0.20.\", DeprecationWarning)\n"
     ]
    }
   ],
   "source": [
    "from xgboost import XGBRegressor\n",
    "model = XGBRegressor(n_estimators=1000, learning_rate=0.1, max_depth=10, nthread=3, objective='binary:logistic')\n",
    "#model = XGBRegressor(n_estimators=600, learning_rate=0.1, max_depth=15, min_child_weight=11, gamma=0.2,\n",
    "#                     objective='binary:logistic', colsample_bytree=0.6, subsample=0.9, reg_alpha=0.1, reg_lambda=1)"
   ]
  },
  {
   "cell_type": "code",
   "execution_count": 9,
   "metadata": {},
   "outputs": [
    {
     "name": "stdout",
     "output_type": "stream",
     "text": [
      "[0]\tvalidation_0-rmse:0.477789\n",
      "Will train until validation_0-rmse hasn't improved in 5 rounds.\n",
      "[1]\tvalidation_0-rmse:0.458522\n",
      "[2]\tvalidation_0-rmse:0.442233\n",
      "[3]\tvalidation_0-rmse:0.428479\n",
      "[4]\tvalidation_0-rmse:0.416488\n",
      "[5]\tvalidation_0-rmse:0.40637\n",
      "[6]\tvalidation_0-rmse:0.397756\n",
      "[7]\tvalidation_0-rmse:0.390629\n",
      "[8]\tvalidation_0-rmse:0.384228\n",
      "[9]\tvalidation_0-rmse:0.379069\n",
      "[10]\tvalidation_0-rmse:0.37454\n",
      "[11]\tvalidation_0-rmse:0.370613\n",
      "[12]\tvalidation_0-rmse:0.367316\n",
      "[13]\tvalidation_0-rmse:0.364499\n",
      "[14]\tvalidation_0-rmse:0.362159\n",
      "[15]\tvalidation_0-rmse:0.359922\n",
      "[16]\tvalidation_0-rmse:0.358161\n",
      "[17]\tvalidation_0-rmse:0.356157\n",
      "[18]\tvalidation_0-rmse:0.354664\n",
      "[19]\tvalidation_0-rmse:0.353448\n",
      "[20]\tvalidation_0-rmse:0.352302\n",
      "[21]\tvalidation_0-rmse:0.351347\n",
      "[22]\tvalidation_0-rmse:0.350611\n",
      "[23]\tvalidation_0-rmse:0.349827\n",
      "[24]\tvalidation_0-rmse:0.349113\n",
      "[25]\tvalidation_0-rmse:0.348513\n",
      "[26]\tvalidation_0-rmse:0.348123\n",
      "[27]\tvalidation_0-rmse:0.347648\n",
      "[28]\tvalidation_0-rmse:0.347186\n",
      "[29]\tvalidation_0-rmse:0.346468\n",
      "[30]\tvalidation_0-rmse:0.34589\n",
      "[31]\tvalidation_0-rmse:0.345643\n",
      "[32]\tvalidation_0-rmse:0.344947\n",
      "[33]\tvalidation_0-rmse:0.344582\n",
      "[34]\tvalidation_0-rmse:0.343904\n",
      "[35]\tvalidation_0-rmse:0.343663\n",
      "[36]\tvalidation_0-rmse:0.343217\n",
      "[37]\tvalidation_0-rmse:0.342859\n",
      "[38]\tvalidation_0-rmse:0.34244\n",
      "[39]\tvalidation_0-rmse:0.342145\n",
      "[40]\tvalidation_0-rmse:0.341776\n",
      "[41]\tvalidation_0-rmse:0.341516\n",
      "[42]\tvalidation_0-rmse:0.341295\n",
      "[43]\tvalidation_0-rmse:0.341204\n",
      "[44]\tvalidation_0-rmse:0.34099\n",
      "[45]\tvalidation_0-rmse:0.3408\n",
      "[46]\tvalidation_0-rmse:0.340767\n",
      "[47]\tvalidation_0-rmse:0.340658\n",
      "[48]\tvalidation_0-rmse:0.340496\n",
      "[49]\tvalidation_0-rmse:0.340187\n",
      "[50]\tvalidation_0-rmse:0.340068\n",
      "[51]\tvalidation_0-rmse:0.340025\n",
      "[52]\tvalidation_0-rmse:0.340001\n",
      "[53]\tvalidation_0-rmse:0.339773\n",
      "[54]\tvalidation_0-rmse:0.33969\n",
      "[55]\tvalidation_0-rmse:0.339555\n",
      "[56]\tvalidation_0-rmse:0.339435\n",
      "[57]\tvalidation_0-rmse:0.339318\n",
      "[58]\tvalidation_0-rmse:0.339252\n",
      "[59]\tvalidation_0-rmse:0.339095\n",
      "[60]\tvalidation_0-rmse:0.339034\n",
      "[61]\tvalidation_0-rmse:0.339067\n",
      "[62]\tvalidation_0-rmse:0.338921\n",
      "[63]\tvalidation_0-rmse:0.338787\n",
      "[64]\tvalidation_0-rmse:0.338619\n",
      "[65]\tvalidation_0-rmse:0.338546\n",
      "[66]\tvalidation_0-rmse:0.338527\n",
      "[67]\tvalidation_0-rmse:0.33849\n",
      "[68]\tvalidation_0-rmse:0.338397\n",
      "[69]\tvalidation_0-rmse:0.338337\n",
      "[70]\tvalidation_0-rmse:0.338207\n",
      "[71]\tvalidation_0-rmse:0.338235\n",
      "[72]\tvalidation_0-rmse:0.338175\n",
      "[73]\tvalidation_0-rmse:0.337969\n",
      "[74]\tvalidation_0-rmse:0.338195\n",
      "[75]\tvalidation_0-rmse:0.338153\n",
      "[76]\tvalidation_0-rmse:0.338308\n",
      "[77]\tvalidation_0-rmse:0.338236\n",
      "[78]\tvalidation_0-rmse:0.338112\n",
      "Stopping. Best iteration:\n",
      "[73]\tvalidation_0-rmse:0.337969\n",
      "\n"
     ]
    },
    {
     "data": {
      "text/plain": [
       "XGBRegressor(base_score=0.5, colsample_bylevel=1, colsample_bytree=1, gamma=0,\n",
       "       learning_rate=0.1, max_delta_step=0, max_depth=10,\n",
       "       min_child_weight=1, missing=None, n_estimators=1000, nthread=3,\n",
       "       objective='binary:logistic', reg_alpha=0, reg_lambda=1,\n",
       "       scale_pos_weight=1, seed=0, silent=True, subsample=1)"
      ]
     },
     "execution_count": 9,
     "metadata": {},
     "output_type": "execute_result"
    }
   ],
   "source": [
    "model.fit(train_f, train_y, early_stopping_rounds=5, eval_set=[(val_f, val_y)], verbose=True, eval_metric='rmse')"
   ]
  },
  {
   "cell_type": "code",
   "execution_count": 14,
   "metadata": {},
   "outputs": [
    {
     "name": "stdout",
     "output_type": "stream",
     "text": [
      "0.5068251353259591\n",
      "0.8381821167732765\n",
      "0.8381972228759709\n",
      "[3495  679  696 3628] tn, fp, fn, tp\n",
      "[0.41127324 0.07990115 0.08190162 0.42692398] tn, fp, fn, tp\n"
     ]
    }
   ],
   "source": [
    "pred = model.predict(val_f)\n",
    "p = pred.copy()\n",
    "thres = 0.53\n",
    "p[p > thres] = 1\n",
    "p[p < thres] = 0\n",
    "print(p.sum()/len(p))\n",
    "print(metrics.roc_auc_score(val_y, p))\n",
    "print(metrics.accuracy_score(val_y, p))\n",
    "print(metrics.confusion_matrix(val_y, p).ravel(), 'tn, fp, fn, tp')\n",
    "print(metrics.confusion_matrix(val_y, p).ravel()/metrics.confusion_matrix(p, val_y).ravel().sum(), 'tn, fp, fn, tp')"
   ]
  },
  {
   "cell_type": "code",
   "execution_count": 15,
   "metadata": {},
   "outputs": [
    {
     "name": "stdout",
     "output_type": "stream",
     "text": [
      "0.5216231944281007\n",
      "0.5004706989879972\n",
      "0.8379618733819723\n"
     ]
    },
    {
     "data": {
      "text/plain": [
       "array([[<matplotlib.axes._subplots.AxesSubplot object at 0x7ff1da205668>,\n",
       "        <matplotlib.axes._subplots.AxesSubplot object at 0x7ff1da16ea58>],\n",
       "       [<matplotlib.axes._subplots.AxesSubplot object at 0x7ff1da144dd8>,\n",
       "        <matplotlib.axes._subplots.AxesSubplot object at 0x7ff1da0a5400>]],\n",
       "      dtype=object)"
      ]
     },
     "execution_count": 15,
     "metadata": {},
     "output_type": "execute_result"
    },
    {
     "data": {
      "image/png": "[encoded data removed]",
      "text/plain": [
       "<Figure size 432x288 with 4 Axes>"
      ]
     },
     "metadata": {},
     "output_type": "display_data"
    }
   ],
   "source": [
    "pred = model.predict(val_f)\n",
    "df_tmp = pd.DataFrame()\n",
    "p = pred.copy()\n",
    "print(p.sum()/ len(p))\n",
    "df_tmp['org'] = p\n",
    "\n",
    "p = (p-p.mean())/p.std()\n",
    "# normalize\n",
    "df_tmp['norm'] = p\n",
    "\n",
    "p += -0.05\n",
    "# bias\n",
    "df_tmp['bias'] = p\n",
    "\n",
    "p = (np.sign(p)+1)/2\n",
    "# sign\n",
    "df_tmp['sign'] = p\n",
    "\n",
    "print(p.sum() / len(p))\n",
    "val_score = metrics.accuracy_score(val_y, p)\n",
    "print(val_score)\n",
    "df_tmp.hist()"
   ]
  },
  {
   "cell_type": "code",
   "execution_count": 18,
   "metadata": {},
   "outputs": [
    {
     "name": "stdout",
     "output_type": "stream",
     "text": [
      "0.5929343657250193\n",
      "0.5026070215781171\n"
     ]
    },
    {
     "data": {
      "text/plain": [
       "array([[<matplotlib.axes._subplots.AxesSubplot object at 0x7ff1d9a09be0>,\n",
       "        <matplotlib.axes._subplots.AxesSubplot object at 0x7ff1d9933240>],\n",
       "       [<matplotlib.axes._subplots.AxesSubplot object at 0x7ff1d9894550>,\n",
       "        <matplotlib.axes._subplots.AxesSubplot object at 0x7ff1d9877160>]],\n",
       "      dtype=object)"
      ]
     },
     "execution_count": 18,
     "metadata": {},
     "output_type": "execute_result"
    },
    {
     "data": {
      "image/png": "[encoded data removed]",
      "text/plain": [
       "<Figure size 432x288 with 4 Axes>"
      ]
     },
     "metadata": {},
     "output_type": "display_data"
    }
   ],
   "source": [
    "pred = model.predict(test_f)\n",
    "df_tmp = pd.DataFrame()\n",
    "p = pred.copy()\n",
    "print(p.sum()/ len(p))\n",
    "df_tmp['org'] = p\n",
    "\n",
    "p = (p-p.mean())/p.std()\n",
    "# normalize\n",
    "df_tmp['norm'] = p\n",
    "\n",
    "p += -0.2\n",
    "# bias\n",
    "df_tmp['bias'] = p\n",
    "\n",
    "p = (np.sign(p)+1)/2\n",
    "# sign\n",
    "df_tmp['sign'] = p\n",
    "\n",
    "print(p.sum() / len(p))\n",
    "df_tmp.hist()"
   ]
  },
  {
   "cell_type": "code",
   "execution_count": 19,
   "metadata": {},
   "outputs": [
    {
     "name": "stdout",
     "output_type": "stream",
     "text": [
      "add simhash, sample:4step val:0.838 sum:0.503\n",
      "params:{'missing': None, 'reg_alpha': 0, 'n_estimators': 1000, 'colsample_bylevel': 1, 'silent': True, 'max_depth': 10, 'max_delta_step': 0, 'subsample': 1, 'reg_lambda': 1, 'colsample_bytree': 1, 'nthread': 3, 'learning_rate': 0.1, 'base_score': 0.5, 'objective': 'binary:logistic', 'min_child_weight': 1, 'seed': 0, 'scale_pos_weight': 1, 'gamma': 0}\n"
     ]
    }
   ],
   "source": [
    "val_score = np.round(val_score, 3)\n",
    "sum_ = np.round(p.sum() / len(p), 3)\n",
    "Message = \"add simhash, sample:4step val:{} sum:{}\\nparams:{}\".format(val_score, sum_, model.get_params())\n",
    "print(Message)"
   ]
  },
  {
   "cell_type": "code",
   "execution_count": 24,
   "metadata": {},
   "outputs": [
    {
     "name": "stdout",
     "output_type": "stream",
     "text": [
      " teamId  teamName                submissionDate       score    \r\n",
      "-------  ----------------------  -------------------  -------  \r\n",
      "2214321  b04902103_蔡昀達           2018-10-11 11:57:28  0.75480  \r\n",
      "2191167  b05902002_李栢淵           2018-10-11 11:51:32  0.75314  \r\n",
      "2201546  b04902011_張立暐           2018-10-11 09:42:36  0.73769  \r\n",
      "2200428  r07921060_温明浩           2018-10-11 10:32:02  0.73157  \r\n",
      "2154984  b04902016_曾奕青           2018-10-10 15:55:30  0.72929  \r\n",
      "2154311  r06922086_林凡煒           2018-10-10 11:04:23  0.72052  \r\n",
      "2162244  b04902113_陳柏叡           2018-10-10 13:57:55  0.71322  \r\n",
      "2169477  r06922095_陳代穎           2018-10-11 11:46:17  0.71306  \r\n"
     ]
    }
   ],
   "source": [
    "from subprocess import call\n",
    "import os\n",
    "os.environ[\"KAGGLE_USERNAME\"] = \"b04902103\"\n",
    "os.environ[\"KAGGLE_KEY\"] = \"f53009dd66f3291b66dbc83d01cc1b8e\"\n",
    "with open('pred.txt', 'w') as f:\n",
    "    for i in p.astype(int):\n",
    "        print(i, file=f)\n",
    "!python3 pred-txt-to-csv.py pred.txt\n",
    "#kaggle competitions submit -c ntucsie-sdml2018-1-3 -f pred.txt.csv -m Message\n",
    "call([\"kaggle\", \"competitions\", \"submit\", \"-c\", \"ntucsie-sdml2018-1-3\", \"-f\", \"pred.txt.csv\", \"-m\", Message])\n",
    "!kaggle competitions leaderboard ntucsie-sdml2018-1-3 --show | head -n 10"
   ]
  },
  {
   "cell_type": "raw",
   "metadata": {},
   "source": [
    "export KAGGLE_USERNAME=b04902103\n",
    "export KAGGLE_KEY=f53009dd66f3291b66dbc83d01cc1b8e"
   ]
  },
  {
   "cell_type": "code",
   "execution_count": 25,
   "metadata": {},
   "outputs": [],
   "source": [
    "record(p)"
   ]
  },
  {
   "cell_type": "markdown",
   "metadata": {},
   "source": [
    "# To-Do\n",
    "\n",
    "* concat pv-dm pd-dbow\n",
    "* rnn auto-encoder\n",
    "* node embedding\n",
    "* new sample distribution"
   ]
  }
 ],
 "metadata": {
  "kernelspec": {
   "display_name": "Python 3",
   "language": "python",
   "name": "python3"
  },
  "language_info": {
   "codemirror_mode": {
    "name": "ipython",
    "version": 3
   },
   "file_extension": ".py",
   "mimetype": "text/x-python",
   "name": "python",
   "nbconvert_exporter": "python",
   "pygments_lexer": "ipython3",
   "version": "3.5.2"
  }
 },
 "nbformat": 4,
 "nbformat_minor": 2
}
