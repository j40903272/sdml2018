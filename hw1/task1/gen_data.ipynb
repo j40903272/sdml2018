{
 "cells": [
  {
   "cell_type": "code",
   "execution_count": 1,
   "metadata": {},
   "outputs": [],
   "source": [
    "import copy\n",
    "import pickle\n",
    "import pandas as pd\n",
    "import numpy as np\n",
    "import networkx as nx"
   ]
  },
  {
   "cell_type": "code",
   "execution_count": 2,
   "metadata": {},
   "outputs": [
    {
     "name": "stdout",
     "output_type": "stream",
     "text": [
      "234983 edges\n",
      "24158 nodes\n"
     ]
    }
   ],
   "source": [
    "G_train = nx.read_edgelist('t1-train.txt', create_using=nx.DiGraph(), nodetype=int, edgetype=int)\n",
    "unG_train = nx.read_edgelist('t1-train.txt', create_using=nx.Graph(), nodetype=int, edgetype=int)\n",
    "print(len(G_train.edges), 'edges')\n",
    "print(len(G_train.nodes), 'nodes')"
   ]
  },
  {
   "cell_type": "code",
   "execution_count": 3,
   "metadata": {},
   "outputs": [
    {
     "name": "stdout",
     "output_type": "stream",
     "text": [
      "50806 edges\n",
      "16325 nodes\n"
     ]
    }
   ],
   "source": [
    "G_test_seen = nx.read_edgelist('t1-test-seen.txt', create_using=nx.DiGraph(), nodetype=int, edgetype=int)\n",
    "print(len(G_test_seen.edges), 'edges')\n",
    "print(len(G_test_seen.nodes), 'nodes')"
   ]
  },
  {
   "cell_type": "code",
   "execution_count": 4,
   "metadata": {},
   "outputs": [
    {
     "name": "stdout",
     "output_type": "stream",
     "text": [
      "88074 edges\n",
      "18726 nodes\n"
     ]
    }
   ],
   "source": [
    "G_test = nx.read_edgelist('t1-test.txt', create_using=nx.DiGraph(), nodetype=int, edgetype=int)\n",
    "print(len(G_test.edges), 'edges')\n",
    "print(len(G_test.nodes), 'nodes')\n",
    "\n",
    "test_x = []\n",
    "for fromId, toId in np.loadtxt('t1-test.txt'):\n",
    "    test_x.append((fromId,  toId))\n",
    "test_x = np.array(test_x).astype('int64')"
   ]
  },
  {
   "cell_type": "code",
   "execution_count": 5,
   "metadata": {},
   "outputs": [],
   "source": [
    "GG = nx.DiGraph()\n",
    "GG.add_edges_from(list(G_test_seen.edges))\n",
    "GG.add_edges_from(list(G_train.edges()))\n",
    "unGG = nx.Graph()\n",
    "unGG.add_edges_from(list(GG.edges()))"
   ]
  },
  {
   "cell_type": "code",
   "execution_count": 6,
   "metadata": {},
   "outputs": [
    {
     "name": "stdout",
     "output_type": "stream",
     "text": [
      "t1-train\n",
      "1.09\n",
      "866.5618325283995\n",
      "568095 568095\n"
     ]
    }
   ],
   "source": [
    "data2 = []\n",
    "label2 = []\n",
    "size = []\n",
    "\n",
    "# t1-train\n",
    "print('t1-train')\n",
    "for e, node in enumerate(GG.nodes):\n",
    "    \n",
    "    pos_nodes = set(GG.successors(node))\n",
    "    \n",
    "    neg_nodes = set()\n",
    "    cand = [node]\n",
    "    for _ in range(4): # 3步往前\n",
    "        new = set()\n",
    "        for i in cand:\n",
    "            tmp = set(GG.successors(i))\n",
    "            new = new | tmp\n",
    "        new = new - neg_nodes - set([node])\n",
    "        neg_nodes = neg_nodes | new\n",
    "        cand = list(new)\n",
    "    \n",
    "    q = set(G_test.successors(node)) if node in G_test else set()\n",
    "    neg_nodes = neg_nodes - pos_nodes - set([node]) - q\n",
    "    size.append(len(neg_nodes))\n",
    "    neg_samples = np.random.choice(list(neg_nodes), int(len(pos_nodes) * 1)) if neg_nodes else []\n",
    "\n",
    "\n",
    "    for pos in pos_nodes:\n",
    "        data2.append((node, pos))\n",
    "        label2.append(1)\n",
    "\n",
    "    for neg in neg_samples:\n",
    "        data2.append((node, neg))\n",
    "        label2.append(0)\n",
    "\n",
    "    print(np.round(e/len(GG), 2), end='\\r')\n",
    "print(1.00)\n",
    "\n",
    "print(np.mean(size))\n",
    "print(len(data2), len(label2))"
   ]
  },
  {
   "cell_type": "code",
   "execution_count": 7,
   "metadata": {},
   "outputs": [
    {
     "name": "stdout",
     "output_type": "stream",
     "text": [
      "Stored 'data2' (list)\n",
      "Stored 'label2' (list)\n"
     ]
    }
   ],
   "source": [
    "%store data2\n",
    "%store label2"
   ]
  },
  {
   "cell_type": "code",
   "execution_count": 18,
   "metadata": {},
   "outputs": [
    {
     "name": "stdout",
     "output_type": "stream",
     "text": [
      "t1-train\n",
      "1.08\n",
      "2936.2041041347625\n",
      "859016 859016\n"
     ]
    }
   ],
   "source": [
    "size = []\n",
    "\n",
    "# t1-train\n",
    "print('t1-test-seen')\n",
    "for e, node in enumerate(G_test_seen.nodes):\n",
    "    \n",
    "    pos_nodes = set(GG.successors(node))\n",
    "    \n",
    "    neg_nodes = set(nx.all_neighbors(unGG, node))# start from neighbor\n",
    "    cand = neg_nodes\n",
    "    for _ in range(3): # 3步往前\n",
    "        new = set()\n",
    "        for i in cand:\n",
    "            tmp = set(GG.successors(i))\n",
    "            new = new | tmp\n",
    "            neg_nodes = neg_nodes | tmp\n",
    "        cand = new\n",
    "        \n",
    "    q = set(G_test.successors(node)) if node in G_test else set()\n",
    "    neg_nodes = neg_nodes - pos_nodes - set([node]) - q\n",
    "    size.append(len(neg_nodes))\n",
    "    neg_samples = np.random.choice(list(neg_nodes), int(len(pos_nodes) * 1)) if neg_nodes else []\n",
    "\n",
    "\n",
    "    for pos in pos_nodes:\n",
    "        data.append((node, pos))\n",
    "        label.append(1)\n",
    "\n",
    "    for neg in neg_samples:\n",
    "        data.append((node, neg))\n",
    "        label.append(0)\n",
    "\n",
    "    print(np.round(e/len(G_test_seen.nodes), 2), end='\\r')\n",
    "print(1.00)\n",
    "\n",
    "print(np.mean(size))\n",
    "print(len(data), len(label))"
   ]
  },
  {
   "cell_type": "code",
   "execution_count": 20,
   "metadata": {},
   "outputs": [
    {
     "data": {
      "text/plain": [
       "380307"
      ]
     },
     "execution_count": 20,
     "metadata": {},
     "output_type": "execute_result"
    }
   ],
   "source": [
    "859016 - 478709"
   ]
  },
  {
   "cell_type": "code",
   "execution_count": 19,
   "metadata": {},
   "outputs": [
    {
     "name": "stdout",
     "output_type": "stream",
     "text": [
      "Stored 'data' (list)\n",
      "Stored 'label' (list)\n"
     ]
    }
   ],
   "source": [
    "%store data\n",
    "%store label"
   ]
  },
  {
   "cell_type": "raw",
   "metadata": {},
   "source": [
    "# gen sample data\n",
    "train_x, train_y = gen_poc_data(G_train)\n",
    "val_x, val_y = gen_poc_data(G_val)"
   ]
  },
  {
   "cell_type": "code",
   "execution_count": 22,
   "metadata": {},
   "outputs": [
    {
     "name": "stdout",
     "output_type": "stream",
     "text": [
      "Stored 'train_x' (ndarray)\n",
      "Stored 'train_y' (ndarray)\n",
      "Stored 'val_x' (ndarray)\n",
      "Stored 'val_y' (ndarray)\n"
     ]
    }
   ],
   "source": [
    "np.savetxt(\"train_x.csv\", train_x, delimiter=\",\")\n",
    "np.savetxt(\"train_y.csv\", train_y, delimiter=\",\")\n",
    "np.savetxt(\"val_x.csv\", val_x, delimiter=\",\")\n",
    "np.savetxt(\"val_y.csv\", val_y, delimiter=\",\")\n",
    "\n",
    "%store train_x\n",
    "%store train_y\n",
    "%store val_x\n",
    "%store val_y"
   ]
  },
  {
   "cell_type": "code",
   "execution_count": 4,
   "metadata": {},
   "outputs": [],
   "source": [
    "size = []"
   ]
  },
  {
   "cell_type": "code",
   "execution_count": 11,
   "metadata": {},
   "outputs": [],
   "source": [
    "def gen_test_data(nxGraph):\n",
    "    print('gen sample')\n",
    "    data = []\n",
    "    label = []\n",
    "    \n",
    "    \n",
    "    for e, node in enumerate(nxGraph):\n",
    "        pos_nodes = set(nxGraph.successors(node))\n",
    "        q = set(G_test.successors(node)) if node in G_test else set()\n",
    "        \n",
    "        neg_nodes = set(nx.descendants(nxGraph, node)) - pos_nodes - set([node]) - q\n",
    "        size.append(len(neg_nodes))\n",
    "        neg_samples = np.random.choice(list(neg_nodes), int(len(pos_nodes) * 1)) if neg_nodes else []\n",
    "        \n",
    "        for pos in pos_nodes:\n",
    "            data.append((node, pos))\n",
    "            label.append(1)\n",
    "            \n",
    "        for neg in neg_samples:\n",
    "            data.append((node, neg))\n",
    "            label.append(0)\n",
    "        \n",
    "        print(np.round(e/len(nxGraph), 2), end='\\r')\n",
    "    print(1.00)\n",
    "    \n",
    "    return np.array(data).astype('int64'), np.array(label).astype('float32')"
   ]
  },
  {
   "cell_type": "code",
   "execution_count": 12,
   "metadata": {},
   "outputs": [
    {
     "name": "stdout",
     "output_type": "stream",
     "text": [
      "gen sample\n",
      "1.09\n"
     ]
    }
   ],
   "source": [
    "all_x, all_y = gen_test_data(GG)"
   ]
  },
  {
   "cell_type": "code",
   "execution_count": 13,
   "metadata": {},
   "outputs": [
    {
     "data": {
      "text/plain": [
       "5240.794299707503"
      ]
     },
     "execution_count": 13,
     "metadata": {},
     "output_type": "execute_result"
    }
   ],
   "source": [
    "np.mean(size)"
   ]
  },
  {
   "cell_type": "code",
   "execution_count": 28,
   "metadata": {},
   "outputs": [
    {
     "name": "stdout",
     "output_type": "stream",
     "text": [
      "Stored 'all_x' (ndarray)\n",
      "Stored 'all_y' (ndarray)\n"
     ]
    }
   ],
   "source": [
    "%store all_x\n",
    "%store all_y"
   ]
  },
  {
   "cell_type": "code",
   "execution_count": null,
   "metadata": {},
   "outputs": [],
   "source": []
  },
  {
   "cell_type": "code",
   "execution_count": 23,
   "metadata": {},
   "outputs": [],
   "source": [
    "test_seen_x = []\n",
    "\n",
    "for fromId, toId in G_test_seen.edges:\n",
    "    if fromId not in G_train or toId not in G_train:\n",
    "        continue\n",
    "    test_seen_x.append((fromId,  toId))\n",
    "\n",
    "test_seen_x = np.array(test_seen_x).astype('float32')\n",
    "test_seen_y = np.ones(test_seen_x.shape[0])"
   ]
  },
  {
   "cell_type": "code",
   "execution_count": 24,
   "metadata": {},
   "outputs": [
    {
     "name": "stdout",
     "output_type": "stream",
     "text": [
      "Stored 'G' (DiGraph)\n",
      "Stored 'unG' (Graph)\n",
      "Stored 'G_train' (DiGraph)\n",
      "Stored 'unG_train' (Graph)\n",
      "Stored 'G_val' (DiGraph)\n",
      "Stored 'G_test_seen' (DiGraph)\n",
      "Stored 'GG' (DiGraph)\n",
      "Stored 'unGG' (Graph)\n",
      "Stored 'train_x' (ndarray)\n",
      "Stored 'train_y' (ndarray)\n",
      "Stored 'val_x' (ndarray)\n",
      "Stored 'val_y' (ndarray)\n",
      "Stored 'test_seen_x' (ndarray)\n",
      "Stored 'test_seen_y' (ndarray)\n",
      "Stored 'test_x' (ndarray)\n",
      "Stored 'all_x' (ndarray)\n",
      "Stored 'all_y' (ndarray)\n"
     ]
    }
   ],
   "source": [
    "%store G\n",
    "%store unG\n",
    "%store G_train\n",
    "%store unG_train\n",
    "%store G_val\n",
    "%store G_test_seen\n",
    "%store GG\n",
    "%store unGG\n",
    "%store train_x\n",
    "%store train_y\n",
    "%store val_x\n",
    "%store val_y\n",
    "%store test_seen_x\n",
    "%store test_seen_y\n",
    "%store test_x\n",
    "%store all_x\n",
    "%store all_y"
   ]
  },
  {
   "cell_type": "code",
   "execution_count": 25,
   "metadata": {},
   "outputs": [
    {
     "data": {
      "text/plain": [
       "0"
      ]
     },
     "execution_count": 25,
     "metadata": {},
     "output_type": "execute_result"
    }
   ],
   "source": [
    "tmp = set()\n",
    "for i, j in zip(all_x, all_y):\n",
    "    if j == 1:\n",
    "        tmp.add(tuple(i))\n",
    "len(set(G_test_seen.edges) - set(tmp))"
   ]
  }
 ],
 "metadata": {
  "kernelspec": {
   "display_name": "Python 3",
   "language": "python",
   "name": "python3"
  },
  "language_info": {
   "codemirror_mode": {
    "name": "ipython",
    "version": 3
   },
   "file_extension": ".py",
   "mimetype": "text/x-python",
   "name": "python",
   "nbconvert_exporter": "python",
   "pygments_lexer": "ipython3",
   "version": "3.5.2"
  }
 },
 "nbformat": 4,
 "nbformat_minor": 2
}
