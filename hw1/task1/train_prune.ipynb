{
 "cells": [
  {
   "cell_type": "code",
   "execution_count": 1,
   "metadata": {},
   "outputs": [],
   "source": [
    "import numpy as np\n",
    "from prune import train, PRUNE_Model, preprocess"
   ]
  },
  {
   "cell_type": "code",
   "execution_count": 2,
   "metadata": {},
   "outputs": [],
   "source": [
    "prune_epoch = 60\n",
    "prune_lr = 0.001"
   ]
  },
  {
   "cell_type": "code",
   "execution_count": 3,
   "metadata": {},
   "outputs": [
    {
     "name": "stdout",
     "output_type": "stream",
     "text": [
      "Epoch: 0\n",
      "train_loss:2.3280\n",
      "Epoch: 1\n",
      "train_loss:0.4573\n",
      "Epoch: 2\n",
      "train_loss:0.2694\n",
      "Epoch: 3\n",
      "train_loss:0.1796\n",
      "Epoch: 4\n",
      "train_loss:0.1538\n",
      "Epoch: 5\n",
      "train_loss:0.1340\n",
      "Epoch: 6\n",
      "train_loss:0.1155\n",
      "Epoch: 7\n",
      "train_loss:0.1038\n",
      "Epoch: 8\n",
      "train_loss:0.0965\n",
      "Epoch: 9\n",
      "train_loss:0.0900\n",
      "Epoch: 10\n",
      "train_loss:0.0827\n",
      "Epoch: 11\n",
      "train_loss:0.0751\n",
      "Epoch: 12\n",
      "train_loss:0.0690\n",
      "Epoch: 13\n",
      "train_loss:0.0619\n",
      "Epoch: 14\n",
      "train_loss:0.0567\n",
      "Epoch: 15\n",
      "train_loss:0.0510\n",
      "Epoch: 16\n",
      "train_loss:0.0462\n",
      "Epoch: 17\n",
      "train_loss:0.0427\n",
      "Epoch: 18\n",
      "train_loss:0.0393\n",
      "Epoch: 19\n",
      "train_loss:0.0372\n",
      "Epoch: 20\n",
      "train_loss:0.0346\n",
      "Epoch: 21\n",
      "train_loss:0.0319\n",
      "Epoch: 22\n",
      "train_loss:0.0301\n",
      "Epoch: 23\n",
      "train_loss:0.0283\n",
      "Epoch: 24\n",
      "train_loss:0.0264\n",
      "Epoch: 25\n",
      "train_loss:0.0250\n",
      "Epoch: 26\n",
      "train_loss:0.0235\n",
      "Epoch: 27\n",
      "train_loss:0.0223\n",
      "Epoch: 28\n",
      "train_loss:0.0213\n",
      "Epoch: 29\n",
      "train_loss:0.0205\n",
      "Epoch: 30\n",
      "train_loss:0.0196\n",
      "Epoch: 31\n",
      "train_loss:0.0184\n",
      "Epoch: 32\n",
      "train_loss:0.0181\n",
      "Epoch: 33\n",
      "train_loss:0.0172\n",
      "Epoch: 34\n",
      "train_loss:0.0164\n",
      "Epoch: 35\n",
      "train_loss:0.0155\n",
      "Epoch: 36\n",
      "train_loss:0.0149\n",
      "Epoch: 37\n",
      "train_loss:0.0144\n",
      "Epoch: 38\n",
      "train_loss:0.0142\n",
      "Epoch: 39\n",
      "train_loss:0.0137\n",
      "Epoch: 40\n",
      "train_loss:0.0132\n",
      "Epoch: 41\n",
      "train_loss:0.0130\n",
      "Epoch: 42\n",
      "train_loss:0.0130\n",
      "Epoch: 43\n",
      "train_loss:0.0126\n",
      "Epoch: 44\n",
      "train_loss:0.0116\n",
      "Epoch: 45\n",
      "train_loss:0.0112\n",
      "Epoch: 46\n",
      "train_loss:0.0112\n",
      "Epoch: 47\n",
      "train_loss:0.0114\n",
      "Epoch: 48\n",
      "train_loss:0.0110\n",
      "Epoch: 49\n",
      "train_loss:0.0105\n",
      "Epoch: 50\n",
      "train_loss:0.0101\n",
      "Epoch: 51\n",
      "train_loss:0.0098\n",
      "Epoch: 52\n",
      "train_loss:0.0099\n",
      "Epoch: 53\n",
      "train_loss:0.0096\n",
      "Epoch: 54\n",
      "train_loss:0.0096\n",
      "Epoch: 55\n",
      "train_loss:0.0092\n",
      "Epoch: 56\n",
      "train_loss:0.0089\n",
      "Epoch: 57\n",
      "train_loss:0.0088\n",
      "Epoch: 58\n",
      "train_loss:0.0088\n",
      "Epoch: 59\n",
      "train_loss:0.0090\n"
     ]
    }
   ],
   "source": [
    "graph = np.loadtxt('t1-train.txt').astype(np.int64)\n",
    "graph = np.concatenate((graph, np.loadtxt('t1-test-seen.txt').astype(np.int64)))\n",
    "\n",
    "prune_data_loader, PMI_dict = preprocess(graph)\n",
    "model = PRUNE_Model().cuda()\n",
    "train(model, prune_epoch, prune_lr, prune_data_loader)\n",
    "embedding = model.node_emb.weight.data.cpu().numpy()"
   ]
  },
  {
   "cell_type": "code",
   "execution_count": 4,
   "metadata": {},
   "outputs": [
    {
     "name": "stdout",
     "output_type": "stream",
     "text": [
      "Stored 'embedding' (ndarray)\n",
      "Stored 'PMI_dict' (dict)\n"
     ]
    }
   ],
   "source": [
    "%store embedding\n",
    "%store PMI_dict"
   ]
  },
  {
   "cell_type": "code",
   "execution_count": 5,
   "metadata": {},
   "outputs": [],
   "source": [
    "import pickle\n",
    "with open('prune_weight.pkl', 'wb') as f:\n",
    "    pickle.dump(embedding, f)\n",
    "with open('PMI_dict.pkl', 'wb') as f:\n",
    "    pickle.dump(PMI_dict, f)"
   ]
  }
 ],
 "metadata": {
  "kernelspec": {
   "display_name": "Python 3",
   "language": "python",
   "name": "python3"
  },
  "language_info": {
   "codemirror_mode": {
    "name": "ipython",
    "version": 3
   },
   "file_extension": ".py",
   "mimetype": "text/x-python",
   "name": "python",
   "nbconvert_exporter": "python",
   "pygments_lexer": "ipython3",
   "version": "3.5.2"
  }
 },
 "nbformat": 4,
 "nbformat_minor": 2
}
